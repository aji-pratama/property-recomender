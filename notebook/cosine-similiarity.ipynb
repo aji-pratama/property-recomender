{
 "cells": [
  {
   "cell_type": "code",
   "execution_count": 1,
   "metadata": {},
   "outputs": [],
   "source": [
    "import pyspark\n",
    "from pyspark.sql import SparkSession\n",
    "from pyspark import SparkContext\n",
    "\n",
    "# Spark Configuration\n",
    "\n",
    "spark = SparkSession \\\n",
    "    .builder\\\n",
    "    .master('local')\\\n",
    "    .config('spark.mongodb.input.uri', 'mongodb://127.0.0.1:27017/propertify')\\\n",
    "    .config('spark.mongodb.output.uri', 'mongodb://127.0.0.1:27017/propertify')\\\n",
    "    .config('spark.jars.packages', 'org.mongodb.spark:mongo-spark-connector_2.11:2.2.1')\\\n",
    "    .getOrCreate()\n",
    "\n",
    "sc = SparkContext.getOrCreate(\"local\")\n",
    "locale = spark._jvm.java.util.Locale\n",
    "locale.setDefault(locale.forLanguageTag(\"en-US\"))\n",
    "\n",
    "property_df = spark.read\\\n",
    "    .format(\"com.mongodb.spark.sql.DefaultSource\")\\\n",
    "    .option(\"database\", \"finalproject\")\\\n",
    "    .option(\"collection\", \"property_db\")\\\n",
    "    .load()\n"
   ]
  },
  {
   "cell_type": "code",
   "execution_count": 2,
   "metadata": {},
   "outputs": [
    {
     "name": "stdout",
     "output_type": "stream",
     "text": [
      "root\n",
      " |-- _id: struct (nullable = true)\n",
      " |    |-- oid: string (nullable = true)\n",
      " |-- name: string (nullable = true)\n",
      " |-- source: string (nullable = true)\n",
      " |-- text: string (nullable = true)\n",
      " |-- url: string (nullable = true)\n",
      "\n",
      "+--------------------+--------------------+--------------+--------------------+--------------------+\n",
      "|                 _id|                name|        source|                text|                 url|\n",
      "+--------------------+--------------------+--------------+--------------------+--------------------+\n",
      "|[5f1eacd2fa1b0b4d...|Kristal Garden Re...|Dotproperty.id|\"KRISTAL GARDEN R...|https://www.dotpr...|\n",
      "|[5f1eacd2fa1b0b4d...|Ready Stock Rumah...|Dotproperty.id|Ready Stock Rumah...|https://www.dotpr...|\n",
      "|[5f1eacd2fa1b0b4d...|Rumah 1 Lantai Di...|Dotproperty.id|Rumah 1 Lantai Di...|https://www.dotpr...|\n",
      "|[5f1eacd2fa1b0b4d...|Rumah Bersubsidi ...|Dotproperty.id|Rumah Bersubsidi ...|https://www.dotpr...|\n",
      "|[5f1eacd2fa1b0b4d...|KPR Subsidi Progr...|Dotproperty.id|KPR Subsidi Progr...|https://www.dotpr...|\n",
      "+--------------------+--------------------+--------------+--------------------+--------------------+\n",
      "only showing top 5 rows\n",
      "\n"
     ]
    },
    {
     "data": {
      "text/plain": [
       "103"
      ]
     },
     "execution_count": 2,
     "metadata": {},
     "output_type": "execute_result"
    }
   ],
   "source": [
    "# Data\n",
    "\n",
    "property_df.printSchema()\n",
    "property_df.show(5)\n",
    "property_df.count()"
   ]
  },
  {
   "cell_type": "code",
   "execution_count": 3,
   "metadata": {},
   "outputs": [],
   "source": [
    "from pyspark.ml.feature import RegexTokenizer, CountVectorizer\n",
    "from pyspark.ml.feature import StopWordsRemover, VectorAssembler\n",
    "from pyspark.ml.feature import Word2Vec, Word2VecModel\n",
    "from pyspark.ml.feature import IDF, HashingTF\n",
    "\n",
    "from pyspark.ml import Pipeline, PipelineModel\n"
   ]
  },
  {
   "cell_type": "code",
   "execution_count": 4,
   "metadata": {},
   "outputs": [],
   "source": [
    "# Text Processing\n",
    "\n",
    "regexTokenizer = RegexTokenizer(gaps = False, pattern = '\\w+', inputCol = 'text', outputCol = 'token')\n",
    "stopWordsRemover = StopWordsRemover(inputCol = 'token', outputCol = 'nostopwrd')"
   ]
  },
  {
   "cell_type": "code",
   "execution_count": 5,
   "metadata": {},
   "outputs": [],
   "source": [
    "# HashingTF = HashingTF(inputCol=\"nostopwrd\", outputCol=\"rawFeature\" qw  cwkcw  \n",
    "countVectorizer = CountVectorizer(inputCol=\"nostopwrd\", outputCol=\"rawFeature\")\n",
    "iDF = IDF(inputCol=\"rawFeature\", outputCol=\"idf_vec\")"
   ]
  },
  {
   "cell_type": "code",
   "execution_count": 6,
   "metadata": {},
   "outputs": [],
   "source": [
    "# Vector data pipline\n",
    "\n",
    "pipeline = Pipeline(stages=[regexTokenizer, stopWordsRemover, countVectorizer, iDF])\n",
    "pipeline_mdl = pipeline.fit(property_df)\n",
    "property_trf_df = pipeline_mdl.transform(property_df)\n",
    "all_property_vecs = property_trf_df.select('_id', 'idf_vec').rdd.map(lambda x: (x[0], x[1])).collect()\n"
   ]
  },
  {
   "cell_type": "code",
   "execution_count": 7,
   "metadata": {},
   "outputs": [
    {
     "name": "stdout",
     "output_type": "stream",
     "text": [
      "root\n",
      " |-- _id: struct (nullable = true)\n",
      " |    |-- oid: string (nullable = true)\n",
      " |-- name: string (nullable = true)\n",
      " |-- source: string (nullable = true)\n",
      " |-- text: string (nullable = true)\n",
      " |-- url: string (nullable = true)\n",
      " |-- token: array (nullable = true)\n",
      " |    |-- element: string (containsNull = true)\n",
      " |-- nostopwrd: array (nullable = true)\n",
      " |    |-- element: string (containsNull = true)\n",
      " |-- rawFeature: vector (nullable = true)\n",
      " |-- idf_vec: vector (nullable = true)\n",
      "\n",
      "+--------------------+--------------------+--------------------+--------------------+--------------------+--------------------+--------------------+\n",
      "|                 _id|                name|                text|                 url|          rawFeature|           nostopwrd|             idf_vec|\n",
      "+--------------------+--------------------+--------------------+--------------------+--------------------+--------------------+--------------------+\n",
      "|[5f1eacd2fa1b0b4d...|Kristal Garden Re...|\"KRISTAL GARDEN R...|https://www.dotpr...|(2341,[0,2,4,5,7,...|[kristal, garden,...|(2341,[0,2,4,5,7,...|\n",
      "|[5f1eacd2fa1b0b4d...|Ready Stock Rumah...|Ready Stock Rumah...|https://www.dotpr...|(2341,[0,1,2,3,4,...|[ready, stock, ru...|(2341,[0,1,2,3,4,...|\n",
      "|[5f1eacd2fa1b0b4d...|Rumah 1 Lantai Di...|Rumah 1 Lantai Di...|https://www.dotpr...|(2341,[0,1,2,3,4,...|[rumah, 1, lantai...|(2341,[0,1,2,3,4,...|\n",
      "|[5f1eacd2fa1b0b4d...|Rumah Bersubsidi ...|Rumah Bersubsidi ...|https://www.dotpr...|(2341,[0,1,2,3,4,...|[rumah, bersubsid...|(2341,[0,1,2,3,4,...|\n",
      "|[5f1eacd2fa1b0b4d...|KPR Subsidi Progr...|KPR Subsidi Progr...|https://www.dotpr...|(2341,[0,1,2,3,4,...|[kpr, subsidi, pr...|(2341,[0,1,2,3,4,...|\n",
      "|[5f1eacd2fa1b0b4d...|Rumah Minimalis A...|Rumah Minimalis A...|https://www.dotpr...|(2341,[0,1,2,3,4,...|[rumah, minimalis...|(2341,[0,1,2,3,4,...|\n",
      "|[5f1eacd2fa1b0b4d...|Rumah Tangerang B...|Rumah Tangerang B...|https://www.dotpr...|(2341,[0,1,2,3,4,...|[rumah, tangerang...|(2341,[0,1,2,3,4,...|\n",
      "|[5f1eacd2fa1b0b4d...|Rumah Minimalis K...|Rumah Minimalis K...|https://www.dotpr...|(2341,[0,1,2,3,4,...|[rumah, minimalis...|(2341,[0,1,2,3,4,...|\n",
      "|[5f1eacd2fa1b0b4d...|Rumah Subsidi Dij...|Rumah Subsidi Dij...|https://www.dotpr...|(2341,[0,1,2,3,4,...|[rumah, subsidi, ...|(2341,[0,1,2,3,4,...|\n",
      "|[5f1eacd2fa1b0b4d...|Rumah Subsidi DP ...|Rumah Subsidi DP ...|https://www.dotpr...|(2341,[0,1,2,3,4,...|[rumah, subsidi, ...|(2341,[0,1,2,3,4,...|\n",
      "|[5f1eacd2fa1b0b4d...|promo subsidi DP ...|Cluster Dharmawan...|https://www.dotpr...|(2341,[0,2,4,5,6,...|[cluster, dharmaw...|(2341,[0,2,4,5,6,...|\n",
      "|[5f1eacd2fa1b0b4d...|Rumah Keren Harga...|Rumah Keren Harga...|https://www.dotpr...|(2341,[0,1,2,3,4,...|[rumah, keren, ha...|(2341,[0,1,2,3,4,...|\n",
      "|[5f1eacd2fa1b0b4d...|RUMAH SUBSIDI SIA...|RUMAH SUBSIDI SIA...|https://www.dotpr...|(2341,[0,1,2,3,4,...|[rumah, subsidi, ...|(2341,[0,1,2,3,4,...|\n",
      "|[5f1eacd2fa1b0b4d...|Rumah Subsidi Min...|RUMAH KPR SUBSIDI...|https://www.dotpr...|(2341,[0,1,2,3,4,...|[rumah, kpr, subs...|(2341,[0,1,2,3,4,...|\n",
      "|[5f1eacd2fa1b0b4d...|Rumah Subsidi Bar...|Rumah Subsidi Bar...|https://www.dotpr...|(2341,[0,1,2,3,4,...|[rumah, subsidi, ...|(2341,[0,1,2,3,4,...|\n",
      "|[5f1eacd2fa1b0b4d...|Rumah Murah Minim...|RUMAH SUBSIDI MIN...|https://www.dotpr...|(2341,[0,1,2,3,4,...|[rumah, subsidi, ...|(2341,[0,1,2,3,4,...|\n",
      "|[5f1eacd2fa1b0b4d...|Home town lokacit...|KOTA BARU PARAHYA...|https://www.dotpr...|(2341,[0,5,6,8,14...|[kota, baru, para...|(2341,[0,5,6,8,14...|\n",
      "|[5f1eacd2fa1b0b4d...|Rumah Subsidi Sur...|Rumah Subsidi Sur...|https://www.dotpr...|(2341,[0,1,2,3,4,...|[rumah, subsidi, ...|(2341,[0,1,2,3,4,...|\n",
      "|[5f1eacd2fa1b0b4d...|Wangsakomala Kota...|KOTA BARU PARAHYA...|https://www.dotpr...|(2341,[0,5,6,8,14...|[kota, baru, para...|(2341,[0,5,6,8,14...|\n",
      "|[5f1eacd2fa1b0b4d...|Rumah syariah mur...|Mengingat dan men...|https://www.dotpr...|(2341,[0,2,5,6,8,...|[mengingat, dan, ...|(2341,[0,2,5,6,8,...|\n",
      "+--------------------+--------------------+--------------------+--------------------+--------------------+--------------------+--------------------+\n",
      "only showing top 20 rows\n",
      "\n"
     ]
    }
   ],
   "source": [
    "property_trf_df.printSchema()\n",
    "property_trf_df.select('_id', 'name', 'text', 'url', 'rawFeature', 'nostopwrd', 'idf_vec').show(20)"
   ]
  },
  {
   "cell_type": "code",
   "execution_count": 8,
   "metadata": {},
   "outputs": [],
   "source": [
    "all_property_vecs = property_trf_df.select('_id', 'idf_vec').rdd.map(lambda x: (x[0], x[1])).collect() #change Word2Vec"
   ]
  },
  {
   "cell_type": "code",
   "execution_count": 9,
   "metadata": {},
   "outputs": [],
   "source": [
    "import numpy as np\n",
    "\n",
    "def cosine_sim(vec1, vec2):\n",
    "    return np.dot(vec1, vec2) / np.sqrt(np.dot(vec1, vec1)) / np.sqrt(np.dot(vec2, vec2))"
   ]
  },
  {
   "cell_type": "code",
   "execution_count": 10,
   "metadata": {},
   "outputs": [],
   "source": [
    "from pyspark.sql.functions import col, isnan\n",
    "\n",
    "def get_property_details(in_property):\n",
    "    a = in_property.alias(\"a\")\n",
    "    b = property_df.alias(\"b\")    \n",
    "    return a.join(b, col(\"a.property_id\") == col(\"b._id\"), 'inner').select([col('a.'+xx) for xx in a.columns] + [col('b.name'), col('b.url'), col('b.text'), col('b.source')]).orderBy(\"a.score\", ascending=False)\n"
   ]
  },
  {
   "cell_type": "code",
   "execution_count": 11,
   "metadata": {},
   "outputs": [],
   "source": [
    "def get_keywords_recomendations(key_words, sim_bus_limit=20):\n",
    "    input_words_df = sc.parallelize([(0, key_words)]).toDF(['_id', 'text'])\n",
    "    input_words_df = pipeline_mdl.transform(input_words_df)\n",
    "    input_key_words_vec = input_words_df.select('idf_vec').collect()[0][0]\n",
    "    sim_property_byword_rdd = sc.parallelize((i[0], float(cosine_sim(input_key_words_vec, i[1]))) for i in all_property_vecs)\n",
    "    property_rdd = sim_property_byword_rdd.sortBy(lambda a: -a[1]).collect()\n",
    "    sim_property_byword_df = spark.createDataFrame(property_rdd) \\\n",
    "         .withColumnRenamed('_1', 'property_id') \\\n",
    "         .withColumnRenamed('_2', 'score')\\\n",
    "         .orderBy(\"score\", ascending=False)\n",
    "    result = sim_property_byword_df.filter(\n",
    "        (col('score')>0) & (~isnan('score'))\n",
    "    ).limit(sim_bus_limit)\n",
    "    return get_property_details(result)\n"
   ]
  },
  {
   "cell_type": "code",
   "execution_count": 12,
   "metadata": {},
   "outputs": [
    {
     "name": "stdout",
     "output_type": "stream",
     "text": [
      "+--------------------+-------------------+--------------------+--------------------+--------------------+--------------+\n",
      "|         property_id|              score|                name|                 url|                text|        source|\n",
      "+--------------------+-------------------+--------------------+--------------------+--------------------+--------------+\n",
      "|[5f1eacd2fa1b0b4d...|0.41394174001564177|Rumah Minimalis A...|https://www.dotpr...|Rumah Minimalis A...|Dotproperty.id|\n",
      "|[5f1eacd2fa1b0b4d...|0.39631826668140296|Rumah Minimalis K...|https://www.dotpr...|Rumah Minimalis K...|Dotproperty.id|\n",
      "|[5f1eacd2fa1b0b4d...|  0.379660914972938|Rumah Subsidi Bar...|https://www.dotpr...|Rumah Subsidi Bar...|Dotproperty.id|\n",
      "|[5f1eacd2fa1b0b4d...| 0.3754294459000138|Rumah Subsidi Dij...|https://www.dotpr...|Rumah Subsidi Dij...|Dotproperty.id|\n",
      "|[5f1eacd2fa1b0b4d...| 0.3592444049983601|Rumah Tangerang B...|https://www.dotpr...|Rumah Tangerang B...|Dotproperty.id|\n",
      "|[5f1eacd2fa1b0b4d...|0.35858178835162147|Rumah Keren Harga...|https://www.dotpr...|Rumah Keren Harga...|Dotproperty.id|\n",
      "|[5f1eacdafa1b0b4d...|  0.358258505133845|BU Rumah Murah Su...|https://www.dotpr...|BU Rumah Murah Su...|Dotproperty.id|\n",
      "|[5f1eacdafa1b0b4d...| 0.3565404381820253|Rumah Subsidi Bar...|https://www.dotpr...|Rumah Subsidi Bar...|Dotproperty.id|\n",
      "|[5f1eacd2fa1b0b4d...| 0.3550968305117492|Rumah Bersubsidi ...|https://www.dotpr...|Rumah Bersubsidi ...|Dotproperty.id|\n",
      "|[5f1eacd2fa1b0b4d...|0.35372051844778457|Rumah 1 Lantai Di...|https://www.dotpr...|Rumah 1 Lantai Di...|Dotproperty.id|\n",
      "|[5f1eacdafa1b0b4d...|0.34632476926738115|Rumah Subsidi KPR...|https://www.dotpr...|Rumah Subsidi KPR...|Dotproperty.id|\n",
      "|[5f1eacd9fa1b0b4d...| 0.3437113968138013|KPR BTN 2020 Ruma...|https://www.dotpr...|KPR BTN 2020 Ruma...|Dotproperty.id|\n",
      "|[5f1eacdafa1b0b4d...| 0.3395533710191592|Dijual Unit Rumah...|https://www.dotpr...|Dijual Unit Rumah...|Dotproperty.id|\n",
      "|[5f1eacd9fa1b0b4d...| 0.3350188515985373|Rumah Dijual Di T...|https://www.dotpr...|Rumah Dijual Di T...|Dotproperty.id|\n",
      "|[5f1eacd9fa1b0b4d...|0.33125012118509545|KPR Subsidi Perum...|https://www.dotpr...|KPR Subsidi Perum...|Dotproperty.id|\n",
      "|[5f1eacd2fa1b0b4d...| 0.3312187022167359|Rumah Subsidi DP ...|https://www.dotpr...|Rumah Subsidi DP ...|Dotproperty.id|\n",
      "|[5f1eacd9fa1b0b4d...| 0.3294135967903066|BTN Properti Peru...|https://www.dotpr...|BTN Properti Peru...|Dotproperty.id|\n",
      "|[5f1eace56ade1843...| 0.3264824238025548|Rumah KPR Subsidi...|https://www.lamud...|Rumah KPR Subsidi...|  Lamudi.co.id|\n",
      "|[5f1eacd9fa1b0b4d...|0.32165272757711905|Perumahan Cluster...|https://www.dotpr...|Perumahan Cluster...|Dotproperty.id|\n",
      "|[5f1eacd2fa1b0b4d...|0.32001107721492245|Ready Stock Rumah...|https://www.dotpr...|Ready Stock Rumah...|Dotproperty.id|\n",
      "+--------------------+-------------------+--------------------+--------------------+--------------------+--------------+\n",
      "\n"
     ]
    }
   ],
   "source": [
    "key_words = 'rumah murah jabodetabek, rumah subsidi di jakarta, jual rumah'\n",
    "\n",
    "keywords_recom_df = get_keywords_recomendations(key_words, 20)\n",
    "keywords_recom_df.show()"
   ]
  },
  {
   "cell_type": "code",
   "execution_count": 25,
   "metadata": {},
   "outputs": [
    {
     "data": {
      "text/plain": [
       "[{'property_id': {'oid': '5f1eacd2fa1b0b4dcefce116'},\n",
       "  'score': 0.41394174001564177,\n",
       "  'name': 'Rumah Minimalis Akses Mudah Subsidi Dekat Jakarta Booking Fee 1,5 Jt',\n",
       "  'url': 'https://www.dotproperty.id/rumah-dijual-dengan-2-kamar-tidur-di-balaraja-banten_4716159',\n",
       "  'text': 'Rumah Minimalis Akses Mudah Subsidi Dekat Jakarta Booking Fee 1,5 JtRumah KPR Bersubsidi Rasa Komersil, Sudah SHMKeunggulan Perumahan SURYAJAYA :* Perumahanan dibangun diatas lahan 200ha dan sudah dihuni oleh lebih 4.000KK* Fasilitas lengkap di dalam dan disekitar perumahan* Bangunan premium dengan desain rumah modern * DP  angsuran terjangkau * Lokasi strategis dekat ke stasiun /pintu toll/terminal dan juga dikelilingi kawasan kota mandiri* Akses transportasi 24jamAngsuran KPR per bulan : \\xa0+ 20th = Rp. 1.000.000,-\\xa0+ 15th = Rp. 1.200.000,-\\xa0+ 10th = Rp. 1.600.000,-Lokasi strategis :\\xa0+ 10menit ke stasiun Tigaraksa\\xa0+ 15menit ke pintu toll/terminal\\xa0+ 30menit ke Citra Raya CikupaSegera hubungi : ( telp  whatsapp )0856 8573 888Info akun untuk SuryajayaJangan Lupa Follow IG : rumahsubsidibalarajaSubscribe Youtube : Rumah Subsidi BalarajaFacebook Fanpage : rumahsubsidibalarajaJangan Lupa Kunjungi Website Kami di www.suryaland.idRumah minimalis, desain rumah, desain rumah minimalis, jual rumah, rumah dijual, rumah sederhana, rumahdijual, rumah siap huni tangerang, rumah dijual murah, rumah subsidi kpr, rumah subsidi tangerang, rumah subsidi pemerintah, dp rumah subsidi, rumah murah btn, rumah murah tangerang, rumah kpr btn, kpr btn subsidi, rumah subsidi tangerang kota, rumah murah bank btn, dp rumah subsidi tangerang, annieland, bukit surya, suryajaya, rumah murah, rumah murah jabodetabek, rumah subsidi di jakarta, jual rumah,',\n",
       "  'source': 'Dotproperty.id'},\n",
       " {'property_id': {'oid': '5f1eacd2fa1b0b4dcefce118'},\n",
       "  'score': 0.39631826668140296,\n",
       "  'name': 'Rumah Minimalis KPR BTN Bersubsidi Sudah SHM Siap Huni di Tangerang',\n",
       "  'url': 'https://www.dotproperty.id/rumah-dijual-dengan-2-kamar-tidur-di-balaraja-banten_4696529',\n",
       "  'text': 'Rumah Minimalis KPR BTN Bersubsidi Sudah SHM Siap Huni di TangerangRumah KPR Bersubsidi Rasa Komersil, Sudah SHMKeunggulan Perumahan SURYAJAYA :* Perumahanan dibangun diatas lahan 200ha dan sudah dihuni oleh lebih 4.000KK* Fasilitas lengkap di dalam dan disekitar perumahan* Bangunan premium dengan desain rumah modern * DP  angsuran terjangkau * Lokasi strategis dekat ke stasiun /pintu toll/terminal dan juga dikelilingi kawasan kota mandiri* Akses transportasi 24jamAngsuran KPR per bulan : \\xa0+ 20th = Rp. 1.000.000,-\\xa0+ 15th = Rp. 1.200.000,-\\xa0+ 10th = Rp. 1.600.000,-Lokasi strategis :\\xa0+ 10menit ke stasiun Tigaraksa\\xa0+ 15menit ke pintu toll/terminal\\xa0+ 30menit ke Citra Raya CikupaSegera hubungi : ( telp  whatsapp )0856 8573 888Info akun untuk SuryajayaJangan Lupa Follow IG : rumahsubsidibalarajaSubscribe Youtube : Rumah Subsidi BalarajaFacebook Fanpage : rumahsubsidibalarajaJangan Lupa Kunjungi Website Kami di www.suryaland.idRumah minimalis, desain rumah, desain rumah minimalis, jual rumah, rumah dijual, rumah sederhana, rumahdijual, rumah siap huni tangerang, rumah dijual murah, rumah subsidi kpr, rumah subsidi tangerang, rumah subsidi pemerintah, dp rumah subsidi, rumah murah btn, rumah murah tangerang, rumah kpr btn, kpr btn subsidi, rumah subsidi tangerang kota, rumah murah bank btn, dp rumah subsidi tangerang, annieland, bukit surya, suryajaya, rumah murah, rumah murah jabodetabek, rumah subsidi di jakarta, jual rumah,',\n",
       "  'source': 'Dotproperty.id'},\n",
       " {'property_id': {'oid': '5f1eacd2fa1b0b4dcefce11f'},\n",
       "  'score': 0.379660914972938,\n",
       "  'name': 'Rumah Subsidi Baru Harga Minimalis Bersubsidi Di Tangerang',\n",
       "  'url': 'https://www.dotproperty.id/rumah-dijual-dengan-2-kamar-tidur-di-balaraja-banten_4944376',\n",
       "  'text': 'Rumah Subsidi Baru Harga Minimalis Bersubsidi Di TangerangRumah Murah KPR BTN Dan Bersubsidi Program PemerintahRumah KPR Bersubsidi Rasa Komersil, Sudah SHMKeunggulan Perumahan SURYAJAYA :* Perumahanan dibangun diatas lahan 200ha dan sudah dihuni oleh lebih 4.000KK* Fasilitas lengkap di dalam dan disekitar perumahan* Bangunan premium dengan desain rumah modern\\xa0* DP  angsuran terjangkau\\xa0* Lokasi strategis dekat ke stasiun /pintu toll/terminal dan juga dikelilingi kawasan kota mandiri* Akses transportasi 24jamAngsuran KPR per bulan :\\xa0\\xa0+ 20th = Rp. 1.000.000,-\\xa0+ 15th = Rp. 1.200.000,-\\xa0+ 10th = Rp. 1.600.000,-BONUS LOYALTI KONSUMEN :GRATIS Peningkatan status rumah menjadi SHM ( Sertifikat Hak Milik )GRATIS Jasa Angkutan PindahanGRATIS Pengeboran Sumur + Mesin Pompa AirGRATIS Pelebaran Septic TankGRATIS Lampu LED 5 Buah +Garansi 1 TahunGRATIS Downlight 5 Titik*Syarat dan Ketentuan BerlakuLokasi strategis :\\xa0+ 10menit ke stasiun Tigaraksa\\xa0+ 15menit ke pintu toll/terminal\\xa0+ 30menit ke Citra Raya CikupaSegera hubungi : ( telp  whatsapp )0856 8573 888Info akun untuk SuryajayaJangan Lupa Follow IG : rumahsubsidibalarajaSubscribe Youtube : Rumah Subsidi BalarajaFacebook Fanpage : rumahsubsidibalarajaJangan Lupa Kunjungi Website Kami di www.suryaland.idRumah minimalis, desain rumah, desain rumah minimalis, jual rumah, rumah dijual, rumah sederhana, rumahdijual, rumah siap huni tangerang, rumah dijual murah, rumah subsidi kpr, rumah subsidi tangerang, rumah subsidi pemerintah, dp rumah subsidi, rumah murah btn, rumah murah tangerang, rumah kpr btn, kpr btn subsidi, rumah subsidi tangerang kota, rumah murah bank btn, dp rumah subsidi tangerang, annieland, bukit surya, suryajaya, rumah murah, rumah murah jabodetabek, rumah subsidi di jakarta, jual rumah,',\n",
       "  'source': 'Dotproperty.id'},\n",
       " {'property_id': {'oid': '5f1eacd2fa1b0b4dcefce119'},\n",
       "  'score': 0.3754294459000138,\n",
       "  'name': 'Rumah Subsidi Dijual KPR BTN Siap Huni Di Cisoka Tangerang',\n",
       "  'url': 'https://www.dotproperty.id/rumah-dijual-dengan-2-kamar-tidur-di-balaraja-banten_4861941',\n",
       "  'text': 'Rumah Subsidi Dijual KPR BTN Siap Huni Di Cisoka TangerangRumah KPR Bersubsidi Rasa Komersil, Sudah SHMKeunggulan Perumahan SURYAJAYA :* Perumahanan dibangun diatas lahan 200ha dan sudah dihuni oleh lebih 4.000KK* Fasilitas lengkap di dalam dan disekitar perumahan* Bangunan premium dengan desain rumah modern\\xa0* DP  angsuran terjangkau\\xa0* Lokasi strategis dekat ke stasiun /pintu toll/terminal dan juga dikelilingi kawasan kota mandiri* Akses transportasi 24jamAngsuran KPR per bulan :\\xa0\\xa0+ 20th = Rp. 1.000.000,-\\xa0+ 15th = Rp. 1.200.000,-\\xa0+ 10th = Rp. 1.600.000,-BONUS LOYALTI KONSUMEN :GRATIS Peningkatan status rumah menjadi SHM ( Sertifikat Hak Milik )GRATIS Jasa Angkutan PindahanGRATIS Pengeboran Sumur + Mesin Pompa AirGRATIS Pelebaran Septic TankGRATIS Lampu LED 5 Buah +Garansi 1 TahunGRATIS Downlight 5 Titik*Syarat dan Ketentuan BerlakuLokasi strategis :\\xa0+ 10menit ke stasiun Tigaraksa\\xa0+ 15menit ke pintu toll/terminal\\xa0+ 30menit ke Citra Raya CikupaSegera hubungi : ( telp  whatsapp )0856 8573 888Info akun untuk SuryajayaJangan Lupa Follow IG : rumahsubsidibalarajaSubscribe Youtube : Rumah Subsidi BalarajaFacebook Fanpage : rumahsubsidibalarajaJangan Lupa Kunjungi Website Kami di www.suryaland.idRumah minimalis, desain rumah, desain rumah minimalis, jual rumah, rumah dijual, rumah sederhana, rumahdijual, rumah siap huni tangerang, rumah dijual murah, rumah subsidi kpr, rumah subsidi tangerang, rumah subsidi pemerintah, dp rumah subsidi, rumah murah btn, rumah murah tangerang, rumah kpr btn, kpr btn subsidi, rumah subsidi tangerang kota, rumah murah bank btn, dp rumah subsidi tangerang, annieland, bukit surya, suryajaya, rumah murah, rumah murah jabodetabek, rumah subsidi di jakarta, jual rumah,',\n",
       "  'source': 'Dotproperty.id'},\n",
       " {'property_id': {'oid': '5f1eacd2fa1b0b4dcefce117'},\n",
       "  'score': 0.3592444049983601,\n",
       "  'name': 'Rumah Tangerang Bersubsidi Minimalis Suryajaya',\n",
       "  'url': 'https://www.dotproperty.id/rumah-dijual-dengan-2-kamar-tidur-di-balaraja-banten_4799627',\n",
       "  'text': 'Rumah Tangerang Bersubsidi Minimalis SuryajayaRumah KPR Bersubsidi Rasa Komersil, Sudah SHMKeunggulan Perumahan SURYAJAYA :* Perumahanan dibangun diatas lahan 200ha dan sudah dihuni oleh lebih 4.000KK* Fasilitas lengkap di dalam dan disekitar perumahan* Bangunan premium dengan desain rumah modern * DP  angsuran terjangkau * Lokasi strategis dekat ke stasiun /pintu toll/terminal dan juga dikelilingi kawasan kota mandiri* Akses transportasi 24jamAngsuran KPR per bulan : \\xa0+ 20th = Rp. 1.000.000,-\\xa0+ 15th = Rp. 1.200.000,-\\xa0+ 10th = Rp. 1.600.000,-BONUS LOYALTI KONSUMEN :GRATIS Peningkatan status rumah menjadi SHM ( Sertifikat Hak Milik )GRATIS Jasa Angkutan PindahanGRATIS Pengeboran Sumur + Mesin Pompa AirGRATIS Pelebaran Septic TankGRATIS Lampu LED 5 Buah +Garansi 1 TahunGRATIS Downlight 5 Titik*Syarat dan Ketentuan BerlakuLokasi strategis :\\xa0+ 10menit ke stasiun Tigaraksa\\xa0+ 15menit ke pintu toll/terminal\\xa0+ 30menit ke Citra Raya CikupaSegera hubungi : ( telp  whatsapp )0856 8573 888Info akun untuk SuryajayaJangan Lupa Follow IG : rumahsubsidibalarajaSubscribe Youtube : Rumah Subsidi BalarajaFacebook Fanpage : rumahsubsidibalarajaJangan Lupa Kunjungi Website Kami di www.suryaland.idRumah minimalis, desain rumah, desain rumah minimalis, jual rumah, rumah dijual, rumah sederhana, rumahdijual, rumah siap huni tangerang, rumah dijual murah, rumah subsidi kpr, rumah subsidi tangerang, rumah subsidi pemerintah, dp rumah subsidi, rumah murah btn, rumah murah tangerang, rumah kpr btn, kpr btn subsidi, rumah subsidi tangerang kota, rumah murah bank btn, dp rumah subsidi tangerang, annieland, bukit surya, suryajaya, rumah murah, rumah murah jabodetabek, rumah subsidi di jakarta, jual rumah,',\n",
       "  'source': 'Dotproperty.id'},\n",
       " {'property_id': {'oid': '5f1eacd2fa1b0b4dcefce11c'},\n",
       "  'score': 0.35858178835162147,\n",
       "  'name': 'Rumah Keren Harga Minimalis Cluster Subsidi Suryajaya, Balaraja',\n",
       "  'url': 'https://www.dotproperty.id/rumah-dijual-dengan-2-kamar-tidur-di-balaraja-banten_4532777',\n",
       "  'text': 'Rumah Keren Harga Minimalis Cluster Subsidi Suryajaya, BalarajaRumah KPR Bersubsidi Rasa Komersil, Sudah SHMNikmati sensasi CASHBACK sampai dengan 9Juta!!Periode Januari 2020Keunggulan Perumahan SURYAJAYA :* Perumahanan dibangun diatas lahan 200ha dan sudah dihuni oleh lebih 4.000KK* Fasilitas lengkap di dalam dan disekitar perumahan* Bangunan premium dengan desain rumah modern * DP  angsuran terjangkau * Lokasi strategis dekat ke stasiun /pintu toll/terminal dan juga dikelilingi kawasan kota mandiri* Akses transportasi 24jamAngsuran KPR per bulan : \\xa0+ 20th = Rp. 1.000.000,-\\xa0+ 15th = Rp. 1.200.000,-\\xa0+ 10th = Rp. 1.600.000,-Lokasi strategis :\\xa0+ 10menit ke stasiun Tigaraksa\\xa0+ 15menit ke pintu toll/terminal\\xa0+ 30menit ke Citra Raya CikupaBONUS LOYALTI KONSUMEN :GRATIS Peningkatan status rumah menjadi SHM ( Sertifikat Hak Milik )GRATIS Jasa Angkutan PindahanGRATIS Pengeboran Sumur + Mesin Pompa AirGRATIS Pelebaran Septic TankGRATIS Lampu LED 5 Buah +Garansi 1 TahunGRATIS Downlight 5TitikSegera hubungi : ( telp  whatsapp )08568573888Info akun untuk SuryajayaJangan Lupa Follow IG : rumahsubsidibalarajaSubscribe Youtube : Rumah Subsidi BalarajaFacebook Fanpage : rumahsubsidibalarajaJangan Lupa Kunjungi Website Kami di www.suryaland.idRumah minimalis, desain rumah, desain rumah minimalis, jual rumah, rumah dijual, rumah sederhana, rumahdijual, rumah siap huni tangerang, rumah dijual murah, rumah subsidi kpr, rumah subsidi tangerang, rumah subsidi pemerintah, dp rumah subsidi, rumah murah btn, rumah murah tangerang, rumah kpr btn, kpr btn subsidi, rumah subsidi tangerang kota, rumah murah bank btn, dp rumah subsidi tangerang, annieland, bukit surya, suryajaya, rumah murah, rumah murah jabodetabek, rumah subsidi di jakarta, jual rumah,',\n",
       "  'source': 'Dotproperty.id'},\n",
       " {'property_id': {'oid': '5f1eacdafa1b0b4dcefce140'},\n",
       "  'score': 0.358258505133845,\n",
       "  'name': 'BU Rumah Murah Subsidi Desain Minimalis @Balaraja Tangerang',\n",
       "  'url': 'https://www.dotproperty.id/rumah-dijual-dengan-2-kamar-tidur-di-balaraja-banten_5110185',\n",
       "  'text': 'BU Rumah Murah Subsidi Desain Minimalis @Balaraja TangerangSelain sebagai hunian juga cocok untuk INVESTASI !!!PROMO JUNI CERIA Promo diperpanjang!! \"HANYA 1,5 Juta SUDAH BISA HUNI RUMAH\"Rumah Subsidi Type 38 @Bukit Surya 1,5 Jt Bisa Punya RumahDP BISA DICICIL!!Akses Transportasi :15 menit ke Stasiun KRL20 menit ke PintuTol20 menit ke Terminal BusSemakin dekat ke Jakarta/Bandara Soekarno – Hatta :- Pembangunan jalan toll Serpong – Balaraja – Bandara- Rencana pembangunan MRT Balaraja – CikarangSarana Perumahan :5 menit ke Sekolah( PAUD, SD, SMP  SMA )15 menit ke Rumah Sakit7 menit ke pasar30 menit ke MallSegera hubungi Kami 0818 385 888 ( telp  whatsapp ) RUMAH SIAP HUNI!!!SURVEI DIANTAR DARI JAKARTA (Sabtu  Minggu Tetap Buka)Info akun untuk BukitsuryaPantau terus info  promo Perumahan Bukit Surya di :Jangan Lupa Follow IG : bukitsuryatangerangSubscribe Youtube : Bukit Surya TangerangFacebook Fanpage : bukitsuryatangerangJangan Lupa Kunjungi Website www.bukitsurya.comRumah minimalis, desain rumah, desain rumah minimalis, jual rumah, rumah dijual, rumah sederhana, rumahdijual, rumah siap huni tangerang, rumah dijual murah, rumah subsidi kpr, rumah subsidi tangerang, rumah subsidi pemerintah, dp rumah subsidi, rumah murah btn, rumah murah tangerang, rumah kpr btn, kpr btn subsidi, rumah subsidi tangerang kota, rumah murah bank btn, dp rumah subsidi tangerang, annieland, bukit surya, suryajaya, rumah murah, rumah murah jabodetabek, rumah subsidi di',\n",
       "  'source': 'Dotproperty.id'},\n",
       " {'property_id': {'oid': '5f1eacdafa1b0b4dcefce13e'},\n",
       "  'score': 0.3565404381820253,\n",
       "  'name': 'Rumah Subsidi Baru Desain Minimalis Harga Minimalis Di Tangerang',\n",
       "  'url': 'https://www.dotproperty.id/rumah-dijual-dengan-2-kamar-tidur-di-balaraja-banten_4940875',\n",
       "  'text': 'Rumah Subsidi Baru Desain Minimalis Harga Minimalis Di TangerangRumah Murah Bersubsidi KPR BTN, program pemerintah bisa KPRSelain sebagai hunian juga cocok untuk INVESTASI !!!Akses Transportasi :15 menit ke Stasiun KRL20 menit ke PintuTol20 menit ke Terminal BusSemakin dekat ke Jakarta/Bandara Soekarno – Hatta :- Pembangunan jalan toll Serpong – Balaraja – Bandara- Rencana pembangunan MRT Balaraja – CikarangSarana Perumahan :5 menit ke Sekolah( PAUD, SD, SMP  SMA )15 menit ke Rumah Sakit7 menit ke pasar30 menit ke MallAngsuran KPR per bulan :+ 10th = Rp. 1.600.000,-+ 15 th = Rp. 1.200.000,-+ 20th = Rp. 1.000.000,-BONUS HUNIAN :GRATIS S.H.M (Sertifikat Hak Milik)GRATIS Lampu LED +Garansi dan Downlight 5 TitikGRATIS Tembok BelakangGRATIS Pelebaran Septic Tank*syarat dan ketentuan berlakuSegera hubungi Kami 0818 385 888 ( telp  whatsapp )\\xa0RUMAH SIAP HUNI!!!SURVEI DIANTAR DARI JAKARTA (Sabtu  Minggu Tetap Buka)Info akun untuk BukitsuryaPantau terus info  promo Perumahan Bukit Surya di :Jangan Lupa Follow IG : bukitsuryatangerangSubscribe Youtube : Bukit Surya TangerangFacebook Fanpage : bukitsuryatangerangJangan Lupa Kunjungi Website www.bukitsurya.comRumah minimalis, desain rumah, desain rumah minimalis, jual rumah, rumah dijual, rumah sederhana, rumahdijual, rumah siap huni tangerang, rumah dijual murah, rumah subsidi kpr, rumah subsidi tangerang, rumah subsidi pemerintah, dp rumah subsidi, rumah murah btn, rumah murah tangerang, rumah kpr btn, kpr btn subsidi, rumah subsidi tangerang kota, rumah murah bank btn, dp rumah subsidi tangerang, annieland, bukit surya, suryajaya, rumah murah, rumah murah jabodetabek, rumah subsidi di',\n",
       "  'source': 'Dotproperty.id'},\n",
       " {'property_id': {'oid': '5f1eacd2fa1b0b4dcefce114'},\n",
       "  'score': 0.3550968305117492,\n",
       "  'name': 'Rumah Bersubsidi Siap Huni DP 8,5 Juta Sudah Bisa Akad di Tangerang',\n",
       "  'url': 'https://www.dotproperty.id/rumah-dijual-dengan-2-kamar-tidur-di-balaraja-banten_4814156',\n",
       "  'text': 'Rumah Bersubsidi Siap Huni DP 8,5 Juta Sudah Bisa Akad di TangerangRumah KPR Bersubsidi Rasa Komersil, Sudah SHMKeunggulan Perumahan SURYAJAYA :* Perumahanan dibangun diatas lahan 200ha dan sudah dihuni oleh lebih 4.000KK* Fasilitas lengkap di dalam dan disekitar perumahan* Bangunan premium dengan desain rumah modern * DP  angsuran terjangkau * Lokasi strategis dekat ke stasiun /pintu toll/terminal dan juga dikelilingi kawasan kota mandiri* Akses transportasi 24jamAngsuran KPR per bulan : \\xa0+ 20th = Rp. 1.000.000,-\\xa0+ 15th = Rp. 1.200.000,-\\xa0+ 10th = Rp. 1.600.000,-BONUS LOYALTI KONSUMEN :GRATIS Peningkatan status rumah menjadi SHM ( Sertifikat Hak Milik )GRATIS Jasa Angkutan PindahanGRATIS Pengeboran Sumur + Mesin Pompa AirGRATIS Pelebaran Septic TankGRATIS Lampu LED 5 Buah +Garansi 1 TahunGRATIS Downlight 5 Titik*Syarat dan Ketentuan BerlakuLokasi strategis :\\xa0+ 10menit ke stasiun Tigaraksa\\xa0+ 15menit ke pintu toll/terminal\\xa0+ 30menit ke Citra Raya CikupaSegera hubungi : ( telp  whatsapp )0856 8573 888Info akun untuk SuryajayaJangan Lupa Follow IG : rumahsubsidibalarajaSubscribe Youtube : Rumah Subsidi BalarajaFacebook Fanpage : rumahsubsidibalarajaJangan Lupa Kunjungi Website Kami di www.suryaland.idRumah minimalis, desain rumah, desain rumah minimalis, jual rumah, rumah dijual, rumah sederhana, rumahdijual, rumah siap huni tangerang, rumah dijual murah, rumah subsidi kpr, rumah subsidi tangerang, rumah subsidi pemerintah, dp rumah subsidi, rumah murah btn, rumah murah tangerang, rumah kpr btn, kpr btn subsidi, rumah subsidi tangerang kota, rumah murah bank btn, dp rumah subsidi tangerang, annieland, bukit surya, suryajaya, rumah murah, rumah murah jabodetabek, rumah subsidi di jakarta, jual rumah,',\n",
       "  'source': 'Dotproperty.id'},\n",
       " {'property_id': {'oid': '5f1eacd2fa1b0b4dcefce113'},\n",
       "  'score': 0.35372051844778457,\n",
       "  'name': 'Rumah 1 Lantai Dijual Cepat Bersubsidi KPR BTN Siap Huni di Cisoka Balaraja',\n",
       "  'url': 'https://www.dotproperty.id/rumah-dijual-dengan-2-kamar-tidur-di-balaraja-banten_4788451',\n",
       "  'text': 'Rumah 1 Lantai Dijual Cepat Bersubsidi KPR BTN Siap Huni di Cisoka BalarajaRumah KPR Bersubsidi Rasa Komersil, Sudah SHMKeunggulan Perumahan SURYAJAYA :* Perumahanan dibangun diatas lahan 200ha dan sudah dihuni oleh lebih 4.000KK* Fasilitas lengkap di dalam dan disekitar perumahan* Bangunan premium dengan desain rumah modern * DP  angsuran terjangkau * Lokasi strategis dekat ke stasiun /pintu toll/terminal dan juga dikelilingi kawasan kota mandiri* Akses transportasi 24jamAngsuran KPR per bulan : \\xa0+ 20th = Rp. 1.000.000,-\\xa0+ 15th = Rp. 1.200.000,-\\xa0+ 10th = Rp. 1.600.000,-BONUS LOYALTI KONSUMEN :GRATIS Peningkatan status rumah menjadi SHM ( Sertifikat Hak Milik )GRATIS Jasa Angkutan PindahanGRATIS Pengeboran Sumur + Mesin Pompa AirGRATIS Pelebaran Septic TankGRATIS Lampu LED 5 Buah +Garansi 1 TahunGRATIS Downlight 5 Titik*Syarat dan Ketentuan BerlakuLokasi strategis :\\xa0+ 10menit ke stasiun Tigaraksa\\xa0+ 15menit ke pintu toll/terminal\\xa0+ 30menit ke Citra Raya CikupaSegera hubungi : ( telp  whatsapp )0856 8573 888Info akun untuk SuryajayaJangan Lupa Follow IG : rumahsubsidibalarajaSubscribe Youtube : Rumah Subsidi BalarajaFacebook Fanpage : rumahsubsidibalarajaJangan Lupa Kunjungi Website Kami di www.suryaland.idRumah minimalis, desain rumah, desain rumah minimalis, jual rumah, rumah dijual, rumah sederhana, rumahdijual, rumah siap huni tangerang, rumah dijual murah, rumah subsidi kpr, rumah subsidi tangerang, rumah subsidi pemerintah, dp rumah subsidi, rumah murah btn, rumah murah tangerang, rumah kpr btn, kpr btn subsidi, rumah subsidi tangerang kota, rumah murah bank btn, dp rumah subsidi tangerang, annieland, bukit surya, suryajaya, rumah murah, rumah murah jabodetabek, rumah subsidi di jakarta, jual rumah,',\n",
       "  'source': 'Dotproperty.id'},\n",
       " {'property_id': {'oid': '5f1eacdafa1b0b4dcefce13d'},\n",
       "  'score': 0.34632476926738115,\n",
       "  'name': 'Rumah Subsidi KPR BTN Transport Mudah Sarana Lengkap @Bukit Surya',\n",
       "  'url': 'https://www.dotproperty.id/rumah-dijual-dengan-2-kamar-tidur-di-balaraja-banten_4899349',\n",
       "  'text': 'Rumah Subsidi KPR BTN Transport Mudah Sarana Lengkap @Bukit SuryaRumah Murah Bersubsidi KPR BTN, program pemerintah bisa KPRSelain sebagai hunian juga cocok untuk INVESTASI !!!Akses Transportasi :15 menit ke Stasiun KRL20 menit ke PintuTol20 menit ke Terminal BusSemakin dekat ke Jakarta/Bandara Soekarno – Hatta :- Pembangunan jalan toll Serpong – Balaraja – Bandara- Rencana pembangunan MRT Balaraja – CikarangSarana Perumahan :5 menit ke Sekolah( PAUD, SD, SMP  SMA )15 menit ke Rumah Sakit7 menit ke pasar30 menit ke MallAngsuran KPR per bulan :+ 10th = Rp. 1.600.000,-+ 15 th = Rp. 1.200.000,-+ 20th = Rp. 1.000.000,-BONUS HUNIAN :GRATIS S.H.M (Sertifikat Hak Milik)GRATIS Lampu LED +Garansi dan Downlight 5 TitikGRATIS Tembok BelakangGRATIS Pelebaran Septic Tank*Syarat dan ketentuan berlakuSegera hubungi Kami 0818 385 888 ( telp  whatsapp )\\xa0RUMAH SIAP HUNI!!!SURVEI DIANTAR DARI JAKARTA (Sabtu  Minggu Tetap Buka)Info akun untuk BukitsuryaPantau terus info  promo Perumahan Bukit Surya di :Jangan Lupa Follow IG : bukitsuryatangerangSubscribe Youtube : Bukit Surya TangerangFacebook Fanpage : bukitsuryatangerangJangan Lupa Kunjungi Website www.bukitsurya.comRumah minimalis, desain rumah, desain rumah minimalis, jual rumah, rumah dijual, rumah sederhana, rumahdijual, rumah siap huni tangerang, rumah dijual murah, rumah subsidi kpr, rumah subsidi tangerang, rumah subsidi pemerintah, dp rumah subsidi, rumah murah btn, rumah murah tangerang, rumah kpr btn, kpr btn subsidi, rumah subsidi tangerang kota, rumah murah bank btn, dp rumah subsidi tangerang, annieland, bukit surya, suryajaya, rumah murah, rumah murah jabodetabek, rumah subsidi di',\n",
       "  'source': 'Dotproperty.id'},\n",
       " {'property_id': {'oid': '5f1eacd9fa1b0b4dcefce131'},\n",
       "  'score': 0.3437113968138013,\n",
       "  'name': 'KPR BTN 2020 Rumah Subsidi Transport Mudah, Sarana Lengkap @Bukit Surya',\n",
       "  'url': 'https://www.dotproperty.id/rumah-dijual-dengan-2-kamar-tidur-di-balaraja-banten_4870983',\n",
       "  'text': 'KPR BTN 2020 Rumah Subsidi Transport Mudah, Sarana Lengkap @Bukit SuryaRumah Murah Bersubsidi KPR BTN, program pemerintah bisa KPRSelain sebagai hunian juga cocok untuk INVESTASI !!!Akses Transportasi :15 menit ke Stasiun KRL20 menit ke PintuTol20 menit ke Terminal BusSemakin dekat ke Jakarta/Bandara Soekarno – Hatta :- Pembangunan jalan toll Serpong – Balaraja – Bandara- Rencana pembangunan MRT Balaraja – CikarangSarana Perumahan :5 menit ke Sekolah( PAUD, SD, SMP  SMA )15 menit ke Rumah Sakit7 menit ke pasar30 menit ke MallAngsuran KPR per bulan :+ 10th = Rp. 1.600.000,-+ 15 th = Rp. 1.200.000,-+ 20th = Rp. 1.000.000,-BONUS HUNIAN :GRATIS S.H.M (Sertifikat Hak Milik)GRATIS Lampu LED +Garansi dan Downlight 5 TitikGRATIS Tembok BelakangGRATIS Pelebaran Septic Tank*Syarat dan ketentuan berlakuSegera hubungi Kami 0818 385 888 ( telp  whatsapp )\\xa0RUMAH SIAP HUNI!!!SURVEI DIANTAR DARI JAKARTA (Sabtu  Minggu Tetap Buka)Info akun untuk BukitsuryaPantau terus info  promo Perumahan Bukit Surya di :Jangan Lupa Follow IG : bukitsuryatangerangSubscribe Youtube : Bukit Surya TangerangFacebook Fanpage : bukitsuryatangerangJangan Lupa Kunjungi Website www.bukitsurya.comRumah minimalis, desain rumah, desain rumah minimalis, jual rumah, rumah dijual, rumah sederhana, rumahdijual, rumah siap huni tangerang, rumah dijual murah, rumah subsidi kpr, rumah subsidi tangerang, rumah subsidi pemerintah, dp rumah subsidi, rumah murah btn, rumah murah tangerang, rumah kpr btn, kpr btn subsidi, rumah subsidi tangerang kota, rumah murah bank btn, dp rumah subsidi tangerang, annieland, bukit surya, suryajaya, rumah murah, rumah murah jabodetabek, rumah subsidi di',\n",
       "  'source': 'Dotproperty.id'},\n",
       " {'property_id': {'oid': '5f1eacdafa1b0b4dcefce141'},\n",
       "  'score': 0.3395533710191592,\n",
       "  'name': 'Dijual Unit Rumah Subsidi Minimalis KPR BTN Desain Minimalis @Bukit Surya',\n",
       "  'url': 'https://www.dotproperty.id/rumah-dijual-dengan-2-kamar-tidur-di-balaraja-banten_5145905',\n",
       "  'text': 'Dijual Unit Rumah Subsidi Minimalis KPR BTN Desain Minimalis @Bukit SuryaSelain sebagai hunian juga cocok untuk INVESTASI !!!PROMO JUNI CERIA Promo diperpanjang!! \"HANYA 1,5 Juta SUDAH BISA HUNI RUMAH\"Rumah Subsidi Type 38 @Bukit Surya 1,5 Jt Bisa Punya RumahDP BISA DICICIL!!Akses Transportasi :15 menit ke Stasiun KRL20 menit ke PintuTol20 menit ke Terminal BusSemakin dekat ke Jakarta/Bandara Soekarno – Hatta :- Pembangunan jalan toll Serpong – Balaraja – Bandara- Rencana pembangunan MRT Balaraja – CikarangSarana Perumahan :5 menit ke Sekolah( PAUD, SD, SMP  SMA )15 menit ke Rumah Sakit7 menit ke pasar30 menit ke MallSegera hubungi Kami 0818 385 888 ( telp  whatsapp ) RUMAH SIAP HUNI!!!SURVEI DIANTAR DARI JAKARTA (Sabtu  Minggu Tetap Buka)Info akun untuk BukitsuryaPantau terus info  promo Perumahan Bukit Surya di :Jangan Lupa Follow IG : bukitsuryatangerangSubscribe Youtube : Bukit Surya TangerangFacebook Fanpage : bukitsuryatangerangJangan Lupa Kunjungi Website www.bukitsurya.comRumah minimalis, desain rumah, desain rumah minimalis, jual rumah, rumah dijual, rumah sederhana, rumahdijual, rumah siap huni tangerang, rumah dijual murah, rumah subsidi kpr, rumah subsidi tangerang, rumah subsidi pemerintah, dp rumah subsidi, rumah murah btn, rumah murah tangerang, rumah kpr btn, kpr btn subsidi, rumah subsidi tangerang kota, rumah murah bank btn, dp rumah subsidi tangerang, annieland, bukit surya, suryajaya, rumah murah, rumah murah jabodetabek, rumah subsidi di',\n",
       "  'source': 'Dotproperty.id'},\n",
       " {'property_id': {'oid': '5f1eacd9fa1b0b4dcefce133'},\n",
       "  'score': 0.3350188515985373,\n",
       "  'name': 'Rumah Dijual Di Tangerang Desain Minimalis Siap Huni @Bukit Surya',\n",
       "  'url': 'https://www.dotproperty.id/rumah-dijual-dengan-2-kamar-tidur-di-balaraja-banten_4911489',\n",
       "  'text': 'Rumah Dijual Di Tangerang Desain Minimalis Siap Huni @Bukit SuryaRumah Murah Bersubsidi KPR BTN, program pemerintah bisa KPRSelain sebagai hunian juga cocok untuk INVESTASI !!!Akses Transportasi :15 menit ke Stasiun KRL20 menit ke PintuTol20 menit ke Terminal BusSemakin dekat ke Jakarta/Bandara Soekarno – Hatta :- Pembangunan jalan toll Serpong – Balaraja – Bandara- Rencana pembangunan MRT Balaraja – CikarangSarana Perumahan :5 menit ke Sekolah( PAUD, SD, SMP  SMA )15 menit ke Rumah Sakit7 menit ke pasar30 menit ke MallAngsuran KPR per bulan :+ 10th = Rp. 1.600.000,-+ 15 th = Rp. 1.200.000,-+ 20th = Rp. 1.000.000,-BONUS HUNIAN :GRATIS S.H.M (Sertifikat Hak Milik)GRATIS Lampu LED +Garansi dan Downlight 5 TitikGRATIS Tembok BelakangGRATIS Pelebaran Septic Tank*Syarat dan ketentuan berlakuSegera hubungi Kami 0818 385 888 ( telp  whatsapp )\\xa0RUMAH SIAP HUNI!!!SURVEI DIANTAR DARI JAKARTA (Sabtu  Minggu Tetap Buka)Info akun untuk BukitsuryaPantau terus info  promo Perumahan Bukit Surya di :Jangan Lupa Follow IG : bukitsuryatangerangSubscribe Youtube : Bukit Surya TangerangFacebook Fanpage : bukitsuryatangerangJangan Lupa Kunjungi Website www.bukitsurya.comRumah minimalis, desain rumah, desain rumah minimalis, jual rumah, rumah dijual, rumah sederhana, rumahdijual, rumah siap huni tangerang, rumah dijual murah, rumah subsidi kpr, rumah subsidi tangerang, rumah subsidi pemerintah, dp rumah subsidi, rumah murah btn, rumah murah tangerang, rumah kpr btn, kpr btn subsidi, rumah subsidi tangerang kota, rumah murah bank btn, dp rumah subsidi tangerang, annieland, bukit surya, suryajaya, rumah murah, rumah murah jabodetabek, rumah subsidi di',\n",
       "  'source': 'Dotproperty.id'},\n",
       " {'property_id': {'oid': '5f1eacd9fa1b0b4dcefce132'},\n",
       "  'score': 0.33125012118509545,\n",
       "  'name': 'KPR Subsidi Perumahan Baru Dijual Banyak Bonus dan Promo @Balaraja',\n",
       "  'url': 'https://www.dotproperty.id/rumah-dijual-dengan-2-kamar-tidur-di-balaraja-banten_4661996',\n",
       "  'text': 'KPR Subsidi Perumahan Baru Dijual Banyak Bonus dan Promo @BalarajaNikmati sensasi CASHBACK sampai dengan 9Juta!!Periode Januari 2020Rumah Murah Bersubsidi KPR BTN, program pemerintah bisa KPRSelain sebagai hunian juga cocok untuk INVESTASI !!!Akses Transportasi :15 menit ke Stasiun KRL20 menit ke PintuTol20 menit ke Terminal BusSemakin dekat ke Jakarta/Bandara Soekarno – Hatta :- Pembangunan jalan toll Serpong – Balaraja – Bandara- Rencana pembangunan MRT Balaraja – CikarangSarana Perumahan :5 menit ke Sekolah( PAUD, SD, SMP  SMA )15 menit ke Rumah Sakit7 menit ke pasar30 menit ke MallAngsuran KPR per bulan :+ 10th = Rp. 1.600.000,-+ 15 th = Rp. 1.200.000,-+ 20th = Rp. 1.000.000,-BONUS HUNIAN :GRATIS S.H.M (Sertifikat Hak Milik)GRATIS Lampu LED +Garansi dan Downlight 5 TitikGRATIS Jasa Angkutan PindahanGRATIS Pengeboran Sumur + Mesin Pompa Air (dijamin sampai air keluar)GRATIS Tembok BelakangGRATIS Pelebaran Septic TankSegera hubungi Kami 0818 385 888 ( telp  whatsapp ) RUMAH SIAP HUNI!!!SURVEI DIANTAR DARI JAKARTA (Sabtu  Minggu Tetap Buka)Info akun untuk BukitsuryaPantau terus info  promo Perumahan Bukit Surya di :Jangan Lupa Follow IG : bukitsuryatangerangSubscribe Youtube : Bukit Surya TangerangFacebook Fanpage : bukitsuryatangerangJangan Lupa Kunjungi Website www.bukitsurya.comRumah minimalis, desain rumah, desain rumah minimalis, jual rumah, rumah dijual, rumah sederhana, rumahdijual, rumah siap huni tangerang, rumah dijual murah, rumah subsidi kpr, rumah subsidi tangerang, rumah subsidi pemerintah, dp rumah subsidi, rumah murah btn, rumah murah tangerang, rumah kpr btn, kpr btn subsidi, rumah subsidi tangerang kota, rumah murah bank btn, dp rumah subsidi tangerang, annieland, bukit surya, suryajaya, rumah murah, rumah murah jabodetabek, rumah subsidi di',\n",
       "  'source': 'Dotproperty.id'},\n",
       " {'property_id': {'oid': '5f1eacd2fa1b0b4dcefce11a'},\n",
       "  'score': 0.3312187022167359,\n",
       "  'name': 'Rumah Subsidi DP Murah Gratis SHM, Gratis SHM Tangerang Balaraja',\n",
       "  'url': 'https://www.dotproperty.id/rumah-dijual-dengan-2-kamar-tidur-di-balaraja-banten_4218323',\n",
       "  'text': 'Rumah Subsidi DP Murah Gratis SHM, Gratis SHM Tangerang BalarajaRumah Murah Bersubsidi KPR BTNKabar GEMBIRA!!!PROMO 10.10 Hadiah langsung berupa TV LED/AC periode 10 Oktober - 31 Oktober 2019Keunggulan Perumahan SURYAJAYA :* Perumahanan dibangun diatas lahan 200ha dan sudah dihuni oleh lebih 4.000KK* Fasilitas lengkap di dalam dan disekitar perumahan* Bangunan premium dengan desain rumah modern * DP  angsuran terjangkau * Lokasi strategis dekat ke stasiun /pintu toll/terminal dan juga dikelilingi kawasan kota mandiri* Akses transportasi 24jamAngsuran KPR per bulan : \\xa0+ 20th = Rp. 1.000.000,-\\xa0+ 15th = Rp. 1.200.000,-\\xa0+ 10th = Rp. 1.600.000,-Lokasi strategis :\\xa0+ 10menit ke stasiun Tigaraksa\\xa0+ 15menit ke pintu toll/terminal\\xa0+ 30menit ke Citra Raya CikupaBONUS LOYALTI KONSUMEN :GRATIS Peningkatan status rumah menjadi SHM ( Sertifikat Hak Milik )GRATIS Jasa Angkutan PindahanGRATIS Pengeboran Sumur + Mesin Pompa AirGRATIS Pelebaran Septic TankGRATIS Lampu LED 6 Buah +Garansi 1 TahunGRATIS Downlight 6 TitikSegera hubungi : ( telp  whatsapp )08568573888Info akun untuk SuryajayaJangan Lupa Follow IG : rumahsubsidibalarajaSubscribe Youtube : Rumah Subsidi BalarajaFacebook Fanpage : rumahsubsidibalarajaJangan Lupa Kunjungi Website Kami di www.suryaland.idRumah minimalis, rumah murah, rumahsubsiditangerang, rumah subsidi tigaraksa, rumah subsidi tangeran 2019, rumah subsidi pemerintah, rumah subsidi 2019, rumah subsidi balaraja, rumah subsidi di jakarta, rumah subsidi tangerang kota, dp rumah subsidi, dp rumah subsidi tangerang, rumah minimalis sederhana, rumah minimalis, gambar rumah minimalis, rumah murah btn, rumah murah bank btn, rumah murah, rumah murah jabodetabek, kpr btn tangerang, kpr btn subsidi tangerang, kpr btn 2019, kpr btn subsidi, kpr btn bersubsidi, rumah s',\n",
       "  'source': 'Dotproperty.id'},\n",
       " {'property_id': {'oid': '5f1eacd9fa1b0b4dcefce12c'},\n",
       "  'score': 0.3294135967903066,\n",
       "  'name': 'BTN Properti Perumahan Subsidi Ready Stock Unit Terbatas @Balaraja',\n",
       "  'url': 'https://www.dotproperty.id/rumah-dijual-dengan-2-kamar-tidur-di-balaraja-banten_4626573',\n",
       "  'text': 'BTN Properti Perumahan Subsidi Ready Stock Unit Terbatas @BalarajaNikmati sensasi CASHBACK sampai dengan 9Juta!!Periode Januari 2020Rumah Murah Bersubsidi KPR BTN, program pemerintah bisa KPRSelain sebagai hunian juga cocok untuk INVESTASI !!!Akses Transportasi :15 menit ke Stasiun KRL20 menit ke PintuTol20 menit ke Terminal BusSemakin dekat ke Jakarta/Bandara Soekarno – Hatta :- Pembangunan jalan toll Serpong – Balaraja – Bandara- Rencana pembangunan MRT Balaraja – CikarangSarana Perumahan :5 menit ke Sekolah( PAUD, SD, SMP  SMA )15 menit ke Rumah Sakit7 menit ke pasar30 menit ke MallAngsuran KPR per bulan :+ 10th = Rp. 1.600.000,-+ 15 th = Rp. 1.200.000,-+ 20th = Rp. 1.000.000,-BONUS HUNIAN :GRATIS S.H.M (Sertifikat Hak Milik)GRATIS Lampu LED +Garansi dan Downlight 5 TitikGRATIS Jasa Angkutan PindahanGRATIS Pengeboran Sumur + Mesin Pompa Air (dijamin sampai air keluar)GRATIS Tembok BelakangGRATIS Pelebaran Septic TankSegera hubungi Kami 0818 385 888 ( telp  whatsapp ) RUMAH SIAP HUNI!!!SURVEI DIANTAR DARI JAKARTA (Sabtu  Minggu Tetap Buka)Info akun untuk BukitsuryaPantau terus info  promo Perumahan Bukit Surya di :Jangan Lupa Follow IG : bukitsuryatangerangSubscribe Youtube : Bukit Surya TangerangFacebook Fanpage : bukitsuryatangerangJangan Lupa Kunjungi Website www.bukitsurya.comRumah minimalis, desain rumah, desain rumah minimalis, jual rumah, rumah dijual, rumah sederhana, rumahdijual, rumah siap huni tangerang, rumah dijual murah, rumah subsidi kpr, rumah subsidi tangerang, rumah subsidi pemerintah, dp rumah subsidi, rumah murah btn, rumah murah tangerang, rumah kpr btn, kpr btn subsidi, rumah subsidi tangerang kota, rumah murah bank btn, dp rumah subsidi tangerang, annieland, bukit surya, suryajaya, rumah murah, rumah murah jabodetabek, rumah subsidi di',\n",
       "  'source': 'Dotproperty.id'},\n",
       " {'property_id': {'oid': '5f1eace56ade1843b213dc24'},\n",
       "  'score': 0.3264824238025548,\n",
       "  'name': 'Rumah KPR Subsidi Pemerintah @Balaraja Tangerang Gratis SHM Siap Huni',\n",
       "  'url': 'https://www.lamudi.co.id/rumah-kpr-subsidi-pemerintah-balaraja-tangerang-gratis-shm-siap-huni.html',\n",
       "  'text': 'Rumah KPR Subsidi Pemerintah @Balaraja Tangerang Gratis Shm Siap HunRumah Murah Bersubsidi KPR BTNKabar GEMBIRA!!!PROMO 11.11 Hadiah langsung berupa TV LED/AC periode November 2019Keunggulan Perumahan SURYAJAYA :* Perumahanan dibangun diatas lahan 200ha dan sudah dihuni oleh lebih 4.000KK* Fasilitas lengkap di dalam dan disekitar perumahan* Bangunan premium dengan desain rumah modern* DP  angsuran terjangkau* Lokasi strategis dekat ke stasiun /pintu toll/terminal dan juga dikelilingi kawasan kota mandiri* Akses transportasi 24jamAngsuran KPR per bulan :\\xa0+ 20th = Rp. 1.000.000,-\\xa0+ 15th = Rp. 1.200.000,-\\xa0+ 10th = Rp. 1.600.000,-Lokasi strategis :\\xa0+ 10menit ke stasiun Tigaraksa\\xa0+ 15menit ke pintu toll/terminal\\xa0+ 30menit ke Citra Raya CikupaBONUS LOYALTI KONSUMEN :GRATIS Peningkatan status rumah menjadi SHM ( Sertifikat Hak Milik )GRATIS Jasa Angkutan PindahanGRATIS Pengeboran Sumur + Mesin Pompa AirGRATIS Pelebaran Septic TankGRATIS Lampu LED 6 Buah +Garansi 1 TahunGRATIS Downlight 6 TitikSegera hubungi : ( telp  whatsapp )Info akun untuk SuryajayaJangan Lupa Follow IG : rumahsubsidibalarajaSubscribe Youtube : Rumah Subsidi BalarajaFacebook Fanpage : rumahsubsidibalarajaJangan Lupa Kunjungi Website Kami di www.suryaland.idRumah minimalis, rumah murah, rumahsubsiditangerang, rumah subsidi tigaraksa, rumah subsidi tangeran 2019, rumah subsidi pemerintah, rumah subsidi 2019, rumah subsidi balaraja, rumah subsidi di jakarta, rumah subsidi tangerang kota, dp rumah subsidi, dp rumah subsidi tangerang, rumah minimalis sederhana, rumah minimalis, gambar rumah minimalis, rumah murah btn, rumah murah bank btn, rumah murah, rumah murah jabodetabek, kpr btn tangerang, kpr btn subsidi tangerang, kpr btn 2019, kpr btn subsidi, kpr btn bersubsidi, rumah s',\n",
       "  'source': 'Lamudi.co.id'},\n",
       " {'property_id': {'oid': '5f1eacd9fa1b0b4dcefce135'},\n",
       "  'score': 0.32165272757711905,\n",
       "  'name': 'Perumahan Cluster Harga Rumah Minimalis Akses Transportasi Mudah @Bukit Surya',\n",
       "  'url': 'https://www.dotproperty.id/rumah-dijual-dengan-2-kamar-tidur-di-balaraja-banten_4671065',\n",
       "  'text': 'Perumahan Cluster Harga Rumah Minimalis Akses Transportasi Mudah @Bukit SuryaRumah Subsidi Konsep Minimalis @Bukit Surya Balaraja Double DindingPROMO FEBRUARICASHBACK DP S/D 9JUTA!! PERIODE BULAN FEBRUARI 2020!!Rumah Murah Bersubsidi KPR BTN, program pemerintah bisa KPRSelain sebagai hunian juga cocok untuk INVESTASI !!!Akses Transportasi :15 menit ke Stasiun KRL20 menit ke PintuTol20 menit ke Terminal BusSemakin dekat ke Jakarta/Bandara Soekarno – Hatta :- Pembangunan jalan toll Serpong – Balaraja – Bandara- Rencana pembangunan MRT Balaraja – CikarangSarana Perumahan :5 menit ke Sekolah( PAUD, SD, SMP  SMA )15 menit ke Rumah Sakit7 menit ke pasar30 menit ke MallAngsuran KPR per bulan :+ 10th = Rp. 1.600.000,-+ 15 th = Rp. 1.200.000,-+ 20th = Rp. 1.000.000,-BONUS HUNIAN :GRATIS S.H.M (Sertifikat Hak Milik)GRATIS Lampu LED +Garansi dan Downlight 5 TitikGRATIS Tembok BelakangGRATIS Pelebaran Septic TankSegera hubungi Kami 0818 385 888 ( telp  whatsapp ) RUMAH SIAP HUNI!!!SURVEI DIANTAR DARI JAKARTA (Sabtu  Minggu Tetap Buka)Info akun untuk BukitsuryaPantau terus info  promo Perumahan Bukit Surya di :Jangan Lupa Follow IG : bukitsuryatangerangSubscribe Youtube : Bukit Surya TangerangFacebook Fanpage : bukitsuryatangerangJangan Lupa Kunjungi Website www.bukitsurya.comRumah minimalis, desain rumah, desain rumah minimalis, jual rumah, rumah dijual, rumah sederhana, rumahdijual, rumah siap huni tangerang, rumah dijual murah, rumah subsidi kpr, rumah subsidi tangerang, rumah subsidi pemerintah, dp rumah subsidi, rumah murah btn, rumah murah tangerang, rumah kpr btn, kpr btn subsidi, rumah subsidi tangerang kota, rumah murah bank btn, dp rumah subsidi tangerang, annieland, bukit surya, suryajaya, rumah murah, rumah murah jabodetabek, rumah subsidi di',\n",
       "  'source': 'Dotproperty.id'},\n",
       " {'property_id': {'oid': '5f1eacd2fa1b0b4dcefce112'},\n",
       "  'score': 0.32001107721492245,\n",
       "  'name': 'Ready Stock Rumah Minimalis Murah, Promo Menarik Rumah Impian',\n",
       "  'url': 'https://www.dotproperty.id/rumah-dijual-dengan-2-kamar-tidur-di-balaraja-banten_4252915',\n",
       "  'text': 'Ready Stock Rumah Minimalis Murah, Promo Menarik Rumah ImpianRumah Murah Bersubsidi KPR BTNKabar GEMBIRA!!!PROMO 10.10 Hadiah langsung berupa TV LED/AC periode 10 Oktober - 31 Oktober 2019Keunggulan Perumahan SURYAJAYA :* Perumahanan dibangun diatas lahan 200ha dan sudah dihuni oleh lebih 4.000KK* Fasilitas lengkap di dalam dan disekitar perumahan* Bangunan premium dengan desain rumah modern * DP  angsuran terjangkau * Lokasi strategis dekat ke stasiun /pintu toll/terminal dan juga dikelilingi kawasan kota mandiri* Akses transportasi 24jamAngsuran KPR per bulan : \\xa0+ 20th = Rp. 1.000.000,-\\xa0+ 15th = Rp. 1.200.000,-\\xa0+ 10th = Rp. 1.600.000,-Lokasi strategis :\\xa0+ 10menit ke stasiun Tigaraksa\\xa0+ 15menit ke pintu toll/terminal\\xa0+ 30menit ke Citra Raya CikupaBONUS LOYALTI KONSUMEN :GRATIS Peningkatan status rumah menjadi SHM ( Sertifikat Hak Milik )GRATIS Jasa Angkutan PindahanGRATIS Pengeboran Sumur + Mesin Pompa AirGRATIS Pelebaran Septic TankGRATIS Lampu LED 6 Buah +Garansi 1 TahunGRATIS Downlight 6 TitikSegera hubungi : ( telp  whatsapp )08568573888Info akun untuk SuryajayaJangan Lupa Follow IG : rumahsubsidibalarajaSubscribe Youtube : Rumah Subsidi BalarajaFacebook Fanpage : rumahsubsidibalarajaJangan Lupa Kunjungi Website Kami di www.suryaland.idRumah minimalis, rumah murah, rumahsubsiditangerang, rumah subsidi tigaraksa, rumah subsidi tangeran 2019, rumah subsidi pemerintah, rumah subsidi 2019, rumah subsidi balaraja, rumah subsidi di jakarta, rumah subsidi tangerang kota, dp rumah subsidi, dp rumah subsidi tangerang, rumah minimalis sederhana, rumah minimalis, gambar rumah minimalis, rumah murah btn, rumah murah bank btn, rumah murah, rumah murah jabodetabek, kpr btn tangerang, kpr btn subsidi tangerang, kpr btn 2019, kpr btn subsidi, kpr btn bersubsidi, rumah s',\n",
       "  'source': 'Dotproperty.id'}]"
      ]
     },
     "execution_count": 25,
     "metadata": {},
     "output_type": "execute_result"
    }
   ],
   "source": [
    "import json\n",
    "\n",
    "keywords_recom_df.toJSON().map(lambda j: json.loads(j)).collect()"
   ]
  },
  {
   "cell_type": "code",
   "execution_count": null,
   "metadata": {},
   "outputs": [],
   "source": []
  },
  {
   "cell_type": "code",
   "execution_count": null,
   "metadata": {},
   "outputs": [],
   "source": []
  }
 ],
 "metadata": {
  "kernelspec": {
   "display_name": "Python 3",
   "language": "python",
   "name": "python3"
  },
  "language_info": {
   "codemirror_mode": {
    "name": "ipython",
    "version": 3
   },
   "file_extension": ".py",
   "mimetype": "text/x-python",
   "name": "python",
   "nbconvert_exporter": "python",
   "pygments_lexer": "ipython3",
   "version": "3.7.1"
  }
 },
 "nbformat": 4,
 "nbformat_minor": 4
}
