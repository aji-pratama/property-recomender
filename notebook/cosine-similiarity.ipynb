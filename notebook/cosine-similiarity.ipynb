{
 "cells": [
  {
   "cell_type": "code",
   "execution_count": 8,
   "metadata": {},
   "outputs": [],
   "source": [
    "import pyspark\n",
    "from pyspark.sql import SparkSession\n",
    "from pyspark import SparkContext\n",
    "\n",
    "# Spark Configuration\n",
    "\n",
    "spark = SparkSession \\\n",
    "    .builder\\\n",
    "    .master('local')\\\n",
    "    .config('spark.mongodb.input.uri', 'mongodb://127.0.0.1:27017/propertify')\\\n",
    "    .config('spark.mongodb.output.uri', 'mongodb://127.0.0.1:27017/propertify')\\\n",
    "    .config('spark.jars.packages', 'org.mongodb.spark:mongo-spark-connector_2.11:2.2.1')\\\n",
    "    .getOrCreate()\n",
    "\n",
    "sc = SparkContext.getOrCreate(\"local\")\n",
    "locale = spark._jvm.java.util.Locale\n",
    "locale.setDefault(locale.forLanguageTag(\"en-US\"))\n",
    "\n",
    "property_df = spark.read\\\n",
    "    .format(\"com.mongodb.spark.sql.DefaultSource\")\\\n",
    "    .option(\"database\", \"finalproject\")\\\n",
    "    .option(\"collection\", \"property\")\\\n",
    "    .load()\n"
   ]
  },
  {
   "cell_type": "code",
   "execution_count": 9,
   "metadata": {},
   "outputs": [
    {
     "name": "stdout",
     "output_type": "stream",
     "text": [
      "root\n",
      " |-- _id: struct (nullable = true)\n",
      " |    |-- oid: string (nullable = true)\n",
      " |-- name: string (nullable = true)\n",
      " |-- source: string (nullable = true)\n",
      " |-- text: string (nullable = true)\n",
      " |-- url: string (nullable = true)\n",
      "\n",
      "+--------------------+--------------------+--------------+--------------------+--------------------+\n",
      "|                 _id|                name|        source|                text|                 url|\n",
      "+--------------------+--------------------+--------------+--------------------+--------------------+\n",
      "|[5f03bf652a115591...|Kristal Garden Re...|Dotproperty.id|\"KRISTAL GARDEN R...|https://www.dotpr...|\n",
      "|[5f03bf662a115591...|Tanah hook, 132 M...|Dotproperty.id|* DIJUAL CEPAT *T...|https://www.dotpr...|\n",
      "|[5f03bf662a115591...|Rumah Harga Murah...|Dotproperty.id|Rumah Harga Murah...|https://www.dotpr...|\n",
      "|[5f03bf662a115591...|Rumah Sederhana S...|Dotproperty.id|Rumah Sederhana S...|https://www.dotpr...|\n",
      "|[5f03bf662a115591...|Termurah! Rumah M...|Dotproperty.id|Termurah! Rumah M...|https://www.dotpr...|\n",
      "+--------------------+--------------------+--------------+--------------------+--------------------+\n",
      "only showing top 5 rows\n",
      "\n"
     ]
    },
    {
     "data": {
      "text/plain": [
       "815"
      ]
     },
     "execution_count": 9,
     "metadata": {},
     "output_type": "execute_result"
    }
   ],
   "source": [
    "# Data\n",
    "\n",
    "property_df.printSchema()\n",
    "property_df.show(5)\n",
    "property_df.count()"
   ]
  },
  {
   "cell_type": "code",
   "execution_count": 10,
   "metadata": {},
   "outputs": [],
   "source": [
    "from pyspark.ml.feature import RegexTokenizer, CountVectorizer\n",
    "from pyspark.ml.feature import StopWordsRemover, VectorAssembler\n",
    "from pyspark.ml.feature import Word2Vec, Word2VecModel\n",
    "from pyspark.ml.feature import IDF, HashingTF\n",
    "\n",
    "from pyspark.ml import Pipeline, PipelineModel\n"
   ]
  },
  {
   "cell_type": "code",
   "execution_count": 11,
   "metadata": {},
   "outputs": [],
   "source": [
    "# Text Processing\n",
    "\n",
    "regexTokenizer = RegexTokenizer(gaps = False, pattern = '\\w+', inputCol = 'text', outputCol = 'token')\n",
    "stopWordsRemover = StopWordsRemover(inputCol = 'token', outputCol = 'nostopwrd')"
   ]
  },
  {
   "cell_type": "code",
   "execution_count": 12,
   "metadata": {},
   "outputs": [],
   "source": [
    "# HashingTF = HashingTF(inputCol=\"nostopwrd\", outputCol=\"rawFeature\" qw  cwkcw  \n",
    "countVectorizer = CountVectorizer(inputCol=\"nostopwrd\", outputCol=\"rawFeature\")\n",
    "iDF = IDF(inputCol=\"rawFeature\", outputCol=\"idf_vec\")"
   ]
  },
  {
   "cell_type": "code",
   "execution_count": 13,
   "metadata": {},
   "outputs": [],
   "source": [
    "# Vector data pipline\n",
    "\n",
    "pipeline = Pipeline(stages=[regexTokenizer, stopWordsRemover, countVectorizer, iDF])\n",
    "pipeline_mdl = pipeline.fit(property_df)\n",
    "property_trf_df = pipeline_mdl.transform(property_df)\n",
    "all_property_vecs = property_trf_df.select('_id', 'idf_vec').rdd.map(lambda x: (x[0], x[1])).collect()\n"
   ]
  },
  {
   "cell_type": "code",
   "execution_count": 15,
   "metadata": {},
   "outputs": [
    {
     "name": "stdout",
     "output_type": "stream",
     "text": [
      "root\n",
      " |-- _id: struct (nullable = true)\n",
      " |    |-- oid: string (nullable = true)\n",
      " |-- name: string (nullable = true)\n",
      " |-- source: string (nullable = true)\n",
      " |-- text: string (nullable = true)\n",
      " |-- url: string (nullable = true)\n",
      " |-- token: array (nullable = true)\n",
      " |    |-- element: string (containsNull = true)\n",
      " |-- nostopwrd: array (nullable = true)\n",
      " |    |-- element: string (containsNull = true)\n",
      " |-- rawFeature: vector (nullable = true)\n",
      " |-- idf_vec: vector (nullable = true)\n",
      "\n",
      "+--------------------+--------------------+--------------------+--------------------+--------------------+\n",
      "|                 _id|                name|                text|                 url|             idf_vec|\n",
      "+--------------------+--------------------+--------------------+--------------------+--------------------+\n",
      "|[5f03bf652a115591...|Kristal Garden Re...|\"KRISTAL GARDEN R...|https://www.dotpr...|(6450,[0,1,2,3,4,...|\n",
      "|[5f03bf662a115591...|Tanah hook, 132 M...|* DIJUAL CEPAT *T...|https://www.dotpr...|(6450,[1,2,3,7,8,...|\n",
      "|[5f03bf662a115591...|Rumah Harga Murah...|Rumah Harga Murah...|https://www.dotpr...|(6450,[0,1,2,3,4,...|\n",
      "|[5f03bf662a115591...|Rumah Sederhana S...|Rumah Sederhana S...|https://www.dotpr...|(6450,[0,1,2,3,4,...|\n",
      "|[5f03bf662a115591...|Termurah! Rumah M...|Termurah! Rumah M...|https://www.dotpr...|(6450,[0,1,2,3,4,...|\n",
      "|[5f03bf662a115591...|Dijual Rumah Desa...|Dijual Rumah Desa...|https://www.dotpr...|(6450,[0,1,2,3,4,...|\n",
      "|[5f03bf662a115591...|Hunian Bagus dan ...|Hunian Bagus dan ...|https://www.dotpr...|(6450,[0,1,2,3,4,...|\n",
      "|[5f03bf662a115591...|Rumah Dijual Deng...|Rumah Dijual Deng...|https://www.dotpr...|(6450,[0,1,2,3,4,...|\n",
      "|[5f03bf662a115591...|Rumah Tangerang B...|Rumah Tangerang B...|https://www.dotpr...|(6450,[0,1,2,3,4,...|\n",
      "|[5f03bf662a115591...|Rumah Subsidi Har...|Rumah Subsidi Har...|https://www.dotpr...|(6450,[0,1,2,3,4,...|\n",
      "|[5f03bf662a115591...|Rumah KPR Subsidi...|Rumah KPR Subsidi...|https://www.dotpr...|(6450,[0,1,2,3,4,...|\n",
      "|[5f03bf662a115591...|Dijual Rumah Mini...|Dijual Rumah Mini...|https://www.dotpr...|(6450,[0,1,2,3,4,...|\n",
      "|[5f03bf662a115591...|Rumah ready stock...|Dipasarkan rumah ...|https://www.dotpr...|(6450,[0,1,16,20,...|\n",
      "|[5f03bf662a115591...|Jasa Urug Tanah d...|*** Jasa Urug Tan...|https://www.dotpr...|(6450,[1,5,8,14,1...|\n",
      "|[5f03bf662a115591...|KPR BTN Rumah Sub...|KPR BTN Rumah Sub...|https://www.dotpr...|(6450,[0,1,2,3,4,...|\n",
      "|[5f03bf662a115591...|Rumah Dijual Tang...|Rumah Dijual Tang...|https://www.dotpr...|(6450,[0,1,2,3,4,...|\n",
      "|[5f03bf662a115591...|KPR SUBSIDI SIAP ...|RUMAH SUBSIDI MIN...|https://www.dotpr...|(6450,[0,1,2,3,4,...|\n",
      "|[5f03bf662a115591...|KPR BTN Subsidi 2...|KPR BTN Subsidi 2...|https://www.dotpr...|(6450,[0,1,2,3,4,...|\n",
      "|[5f03bf662a115591...|KPR BTN Cisoka Bi...|KPR BTN Cisoka Bi...|https://www.dotpr...|(6450,[0,1,2,3,4,...|\n",
      "|[5f03bf672a115591...|Sewa Gudang Pabri...|Daiwa House Indus...|https://www.dotpr...|(6450,[1,3,4,6,10...|\n",
      "+--------------------+--------------------+--------------------+--------------------+--------------------+\n",
      "only showing top 20 rows\n",
      "\n"
     ]
    }
   ],
   "source": [
    "property_trf_df.printSchema()\n",
    "property_trf_df.select('_id', 'name', 'text', 'url', 'idf_vec').show(20)"
   ]
  },
  {
   "cell_type": "code",
   "execution_count": 16,
   "metadata": {},
   "outputs": [],
   "source": [
    "all_property_vecs = property_trf_df.select('_id', 'idf_vec').rdd.map(lambda x: (x[0], x[1])).collect() #change Word2Vec"
   ]
  },
  {
   "cell_type": "code",
   "execution_count": 17,
   "metadata": {},
   "outputs": [],
   "source": [
    "import numpy as np\n",
    "\n",
    "def cosine_sim(vec1, vec2):\n",
    "    return np.dot(vec1, vec2) / np.sqrt(np.dot(vec1, vec1)) / np.sqrt(np.dot(vec2, vec2))"
   ]
  },
  {
   "cell_type": "code",
   "execution_count": 18,
   "metadata": {},
   "outputs": [],
   "source": [
    "from pyspark.sql.functions import col, isnan\n",
    "\n",
    "def get_property_details(in_property):\n",
    "    a = in_property.alias(\"a\")\n",
    "    b = property_df.alias(\"b\")    \n",
    "    return a.join(b, col(\"a.property_id\") == col(\"b._id\"), 'inner').select([col('a.'+xx) for xx in a.columns] + [col('b.name'), col('b.url'), col('b.text'), col('b.source')]).orderBy(\"a.score\", ascending=False)\n"
   ]
  },
  {
   "cell_type": "code",
   "execution_count": 19,
   "metadata": {},
   "outputs": [],
   "source": [
    "def get_keywords_recomendations(key_words, sim_bus_limit=20):\n",
    "    input_words_df = sc.parallelize([(0, key_words)]).toDF(['_id', 'text'])\n",
    "    input_words_df = pipeline_mdl.transform(input_words_df)\n",
    "    input_key_words_vec = input_words_df.select('idf_vec').collect()[0][0]\n",
    "    sim_property_byword_rdd = sc.parallelize((i[0], float(cosine_sim(input_key_words_vec, i[1]))) for i in all_property_vecs)\n",
    "    property_rdd = sim_property_byword_rdd.sortBy(lambda a: -a[1]).collect()\n",
    "    sim_property_byword_df = spark.createDataFrame(property_rdd) \\\n",
    "         .withColumnRenamed('_1', 'property_id') \\\n",
    "         .withColumnRenamed('_2', 'score')\\\n",
    "         .orderBy(\"score\", ascending=False)\n",
    "    result = sim_property_byword_df.filter(\n",
    "        (col('score')>0) & (~isnan('score'))\n",
    "    ).limit(sim_bus_limit)\n",
    "    return get_property_details(result)\n"
   ]
  },
  {
   "cell_type": "code",
   "execution_count": 20,
   "metadata": {},
   "outputs": [
    {
     "name": "stdout",
     "output_type": "stream",
     "text": [
      "+--------------------+------------------+--------------------+--------------------+--------------------+---------+\n",
      "|         property_id|             score|                name|                 url|                text|   source|\n",
      "+--------------------+------------------+--------------------+--------------------+--------------------+---------+\n",
      "|[5f03bf83921cfeeb...|0.6428073309373508|Rumah dan tanah d...|https://www.rumah...|Tanah dan rumah d...|Rumah.com|\n",
      "+--------------------+------------------+--------------------+--------------------+--------------------+---------+\n",
      "\n"
     ]
    }
   ],
   "source": [
    "key_words = 'jaga karsa'\n",
    "\n",
    "keywords_recom_df = get_keywords_recomendations(key_words, 20)\n",
    "keywords_recom_df.show()"
   ]
  },
  {
   "cell_type": "code",
   "execution_count": 21,
   "metadata": {},
   "outputs": [
    {
     "data": {
      "text/plain": [
       "[{'property_id': {'oid': '5f03bf83921cfeebe0669027'},\n",
       "  'score': 0.6428073309373508,\n",
       "  'name': 'Rumah dan tanah dijual di Jaga karsa sangat bagus strategis',\n",
       "  'url': 'https://www.rumah.com/listing-properti/dijual-rumah-dan-tanah-dijual-di-jaga-karsa-sangat-bagus-strategis-oleh-irham-thoha-16612979',\n",
       "  'text': 'Tanah dan rumah daerah Jaga Karsa sangat strategis\\n                                    Dijual Tanah dan Bangunan di daerah sangat strategis di Jl. Kahfi Cipedak Jaga Karsa Jakarta selatan deket tol kearah Antasari , Jabodetabek serta bandara Soeta deket kearah Thamrin dan Sudirman ada Bus way dan MRT serta LRT',\n",
       "  'source': 'Rumah.com'}]"
      ]
     },
     "execution_count": 21,
     "metadata": {},
     "output_type": "execute_result"
    }
   ],
   "source": [
    "import json\n",
    "\n",
    "keywords_recom_df.toJSON().map(lambda j: json.loads(j)).collect()"
   ]
  },
  {
   "cell_type": "code",
   "execution_count": null,
   "metadata": {},
   "outputs": [],
   "source": []
  }
 ],
 "metadata": {
  "kernelspec": {
   "display_name": "Python 3",
   "language": "python",
   "name": "python3"
  },
  "language_info": {
   "codemirror_mode": {
    "name": "ipython",
    "version": 3
   },
   "file_extension": ".py",
   "mimetype": "text/x-python",
   "name": "python",
   "nbconvert_exporter": "python",
   "pygments_lexer": "ipython3",
   "version": "3.7.1"
  }
 },
 "nbformat": 4,
 "nbformat_minor": 4
}
