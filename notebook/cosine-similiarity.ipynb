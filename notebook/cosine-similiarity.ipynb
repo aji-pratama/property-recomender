{
 "cells": [
  {
   "cell_type": "code",
   "execution_count": 2,
   "metadata": {},
   "outputs": [],
   "source": [
    "import pyspark\n",
    "from pyspark.sql import SparkSession\n",
    "from pyspark import SparkContext\n",
    "\n",
    "# Spark Configuration\n",
    "\n",
    "spark = SparkSession \\\n",
    "    .builder\\\n",
    "    .master('local')\\\n",
    "    .config('spark.mongodb.input.uri', 'mongodb://127.0.0.1:27017/propertify')\\\n",
    "    .config('spark.mongodb.output.uri', 'mongodb://127.0.0.1:27017/propertify')\\\n",
    "    .config('spark.jars.packages', 'org.mongodb.spark:mongo-spark-connector_2.11:2.2.1')\\\n",
    "    .getOrCreate()\n",
    "\n",
    "sc = SparkContext.getOrCreate(\"local\")\n",
    "locale = spark._jvm.java.util.Locale\n",
    "locale.setDefault(locale.forLanguageTag(\"en-US\"))\n",
    "\n",
    "property_df = spark.read\\\n",
    "    .format(\"com.mongodb.spark.sql.DefaultSource\")\\\n",
    "    .option(\"database\", \"finalproject\")\\\n",
    "    .option(\"collection\", \"property_db\")\\\n",
    "    .load()\n"
   ]
  },
  {
   "cell_type": "code",
   "execution_count": 3,
   "metadata": {},
   "outputs": [
    {
     "name": "stdout",
     "output_type": "stream",
     "text": [
      "root\n",
      " |-- _id: struct (nullable = true)\n",
      " |    |-- oid: string (nullable = true)\n",
      " |-- name: string (nullable = true)\n",
      " |-- source: string (nullable = true)\n",
      " |-- text: string (nullable = true)\n",
      " |-- url: string (nullable = true)\n",
      "\n",
      "+--------------------+--------------------+--------------+--------------------+--------------------+\n",
      "|                 _id|                name|        source|                text|                 url|\n",
      "+--------------------+--------------------+--------------+--------------------+--------------------+\n",
      "|[5f24c120d6a00603...|Kristal Garden Re...|Dotproperty.id|\"KRISTAL GARDEN R...|https://www.dotpr...|\n",
      "|[5f24c120d6a00603...|Rumah Minimalis K...|Dotproperty.id|Rumah Minimalis K...|https://www.dotpr...|\n",
      "|[5f24c120d6a00603...|Ready Stock Rumah...|Dotproperty.id|Ready Stock Rumah...|https://www.dotpr...|\n",
      "|[5f24c120d6a00603...|KPR Subsidi Progr...|Dotproperty.id|KPR Subsidi Progr...|https://www.dotpr...|\n",
      "|[5f24c120d6a00603...|Dijual Rumah Mini...|Dotproperty.id|Dijual Rumah Mini...|https://www.dotpr...|\n",
      "+--------------------+--------------------+--------------+--------------------+--------------------+\n",
      "only showing top 5 rows\n",
      "\n"
     ]
    },
    {
     "data": {
      "text/plain": [
       "95"
      ]
     },
     "execution_count": 3,
     "metadata": {},
     "output_type": "execute_result"
    }
   ],
   "source": [
    "# Data\n",
    "\n",
    "property_df.printSchema()\n",
    "property_df.show(5)\n",
    "property_df.count()"
   ]
  },
  {
   "cell_type": "code",
   "execution_count": 4,
   "metadata": {},
   "outputs": [],
   "source": [
    "from pyspark.ml.feature import RegexTokenizer, CountVectorizer\n",
    "from pyspark.ml.feature import StopWordsRemover, VectorAssembler\n",
    "from pyspark.ml.feature import Word2Vec, Word2VecModel\n",
    "from pyspark.ml.feature import IDF, HashingTF\n",
    "\n",
    "from pyspark.ml import Pipeline, PipelineModel\n"
   ]
  },
  {
   "cell_type": "code",
   "execution_count": 5,
   "metadata": {},
   "outputs": [],
   "source": [
    "# Text Processing\n",
    "\n",
    "regexTokenizer = RegexTokenizer(gaps = False, pattern = '\\w+', inputCol = 'text', outputCol = 'token')\n",
    "stopWordsRemover = StopWordsRemover(inputCol = 'token', outputCol = 'nostopwrd')"
   ]
  },
  {
   "cell_type": "code",
   "execution_count": 6,
   "metadata": {},
   "outputs": [],
   "source": [
    "# HashingTF = HashingTF(inputCol=\"nostopwrd\", outputCol=\"rawFeature\" qw  cwkcw  \n",
    "countVectorizer = CountVectorizer(inputCol=\"nostopwrd\", outputCol=\"rawFeature\")\n",
    "iDF = IDF(inputCol=\"rawFeature\", outputCol=\"idf_vec\")"
   ]
  },
  {
   "cell_type": "code",
   "execution_count": 7,
   "metadata": {},
   "outputs": [],
   "source": [
    "# Vector data pipline\n",
    "\n",
    "pipeline = Pipeline(stages=[regexTokenizer, stopWordsRemover, countVectorizer, iDF])\n",
    "pipeline_mdl = pipeline.fit(property_df)\n",
    "property_trf_df = pipeline_mdl.transform(property_df)\n",
    "all_property_vecs = property_trf_df.select('_id', 'idf_vec').rdd.map(lambda x: (x[0], x[1])).collect()\n"
   ]
  },
  {
   "cell_type": "code",
   "execution_count": 8,
   "metadata": {},
   "outputs": [
    {
     "name": "stdout",
     "output_type": "stream",
     "text": [
      "root\n",
      " |-- _id: struct (nullable = true)\n",
      " |    |-- oid: string (nullable = true)\n",
      " |-- name: string (nullable = true)\n",
      " |-- source: string (nullable = true)\n",
      " |-- text: string (nullable = true)\n",
      " |-- url: string (nullable = true)\n",
      " |-- token: array (nullable = true)\n",
      " |    |-- element: string (containsNull = true)\n",
      " |-- nostopwrd: array (nullable = true)\n",
      " |    |-- element: string (containsNull = true)\n",
      " |-- rawFeature: vector (nullable = true)\n",
      " |-- idf_vec: vector (nullable = true)\n",
      "\n",
      "+--------------------+--------------------+--------------------+--------------------+--------------------+--------------------+--------------------+\n",
      "|                 _id|                name|                text|                 url|          rawFeature|           nostopwrd|             idf_vec|\n",
      "+--------------------+--------------------+--------------------+--------------------+--------------------+--------------------+--------------------+\n",
      "|[5f24c120d6a00603...|Kristal Garden Re...|\"KRISTAL GARDEN R...|https://www.dotpr...|(1838,[0,2,3,4,5,...|[kristal, garden,...|(1838,[0,2,3,4,5,...|\n",
      "|[5f24c120d6a00603...|Rumah Minimalis K...|Rumah Minimalis K...|https://www.dotpr...|(1838,[0,1,2,3,4,...|[rumah, minimalis...|(1838,[0,1,2,3,4,...|\n",
      "|[5f24c120d6a00603...|Ready Stock Rumah...|Ready Stock Rumah...|https://www.dotpr...|(1838,[0,1,2,3,4,...|[ready, stock, ru...|(1838,[0,1,2,3,4,...|\n",
      "|[5f24c120d6a00603...|KPR Subsidi Progr...|KPR Subsidi Progr...|https://www.dotpr...|(1838,[0,1,2,3,4,...|[kpr, subsidi, pr...|(1838,[0,1,2,3,4,...|\n",
      "|[5f24c120d6a00603...|Dijual Rumah Mini...|Dijual Rumah Mini...|https://www.dotpr...|(1838,[0,1,2,3,4,...|[dijual, rumah, m...|(1838,[0,1,2,3,4,...|\n",
      "|[5f24c120d6a00603...|Dijual Rumah Cant...|Dijual Rumah Cant...|https://www.dotpr...|(1838,[0,1,2,3,4,...|[dijual, rumah, c...|(1838,[0,1,2,3,4,...|\n",
      "|[5f24c120d6a00603...|Rumah Bersubsidi ...|Rumah Bersubsidi ...|https://www.dotpr...|(1838,[0,1,2,3,4,...|[rumah, bersubsid...|(1838,[0,1,2,3,4,...|\n",
      "|[5f24c120d6a00603...|Rumah Minimalis A...|Rumah Minimalis A...|https://www.dotpr...|(1838,[0,1,2,3,4,...|[rumah, minimalis...|(1838,[0,1,2,3,4,...|\n",
      "|[5f24c120d6a00603...|Rumah Subsidi Kon...|Rumah Subsidi Kon...|https://www.dotpr...|(1838,[0,1,2,3,4,...|[rumah, subsidi, ...|(1838,[0,1,2,3,4,...|\n",
      "|[5f24c120d6a00603...|Rumah 1 Lantai Di...|Rumah 1 Lantai Di...|https://www.dotpr...|(1838,[0,1,2,3,4,...|[rumah, 1, lantai...|(1838,[0,1,2,3,4,...|\n",
      "|[5f24c120d6a00603...|Rumah Subsidi Sia...|Rumah Subsidi Min...|https://www.dotpr...|(1838,[0,1,2,3,4,...|[rumah, subsidi, ...|(1838,[0,1,2,3,4,...|\n",
      "|[5f24c121d6a00603...|Rumah Subsidi Min...|Rumah Subsidi di ...|https://www.dotpr...|(1838,[0,1,2,3,4,...|[rumah, subsidi, ...|(1838,[0,1,2,3,4,...|\n",
      "|[5f24c121d6a00603...|Rumah Subsidi Bar...|Rumah Subsidi Bar...|https://www.dotpr...|(1838,[0,1,2,3,4,...|[rumah, subsidi, ...|(1838,[0,1,2,3,4,...|\n",
      "|[5f24c121d6a00603...|Rumah Subsidi KPR...|Rumah Subsidi KPR...|https://www.dotpr...|(1838,[0,1,2,3,4,...|[rumah, subsidi, ...|(1838,[0,1,2,3,4,...|\n",
      "|[5f24c121d6a00603...|KPR BTN Subsidi 2...|KPR BTN Subsidi 2...|https://www.dotpr...|(1838,[0,1,2,3,4,...|[kpr, btn, subsid...|(1838,[0,1,2,3,4,...|\n",
      "|[5f24c121d6a00603...|Rumah Nyaman Siap...|Rumah Nyaman Siap...|https://www.dotpr...|(1838,[0,1,2,3,4,...|[rumah, nyaman, s...|(1838,[0,1,2,3,4,...|\n",
      "|[5f24c121d6a00603...|Promo Gajian! Rum...|Promo Gajian! Rum...|https://www.dotpr...|(1838,[0,1,2,3,4,...|[promo, gajian, r...|(1838,[0,1,2,3,4,...|\n",
      "|[5f24c129d6a00603...|Dijual Rumah Mini...|Dijual Rumah Mini...|https://www.dotpr...|(1838,[0,1,2,3,4,...|[dijual, rumah, m...|(1838,[0,1,2,3,4,...|\n",
      "|[5f24c129d6a00603...|Rumah 1 Lantai Di...|Rumah 1 Lantai Di...|https://www.dotpr...|(1838,[0,1,2,3,4,...|[rumah, 1, lantai...|(1838,[0,1,2,3,4,...|\n",
      "|[5f24c129d6a00603...|Rumah Subsidi Pro...|Rumah Subsidi Pro...|https://www.dotpr...|(1838,[0,1,2,3,4,...|[rumah, subsidi, ...|(1838,[0,1,2,3,4,...|\n",
      "+--------------------+--------------------+--------------------+--------------------+--------------------+--------------------+--------------------+\n",
      "only showing top 20 rows\n",
      "\n"
     ]
    }
   ],
   "source": [
    "property_trf_df.printSchema()\n",
    "property_trf_df.select('_id', 'name', 'text', 'url', 'rawFeature', 'nostopwrd', 'idf_vec').show(20)"
   ]
  },
  {
   "cell_type": "code",
   "execution_count": 9,
   "metadata": {},
   "outputs": [],
   "source": [
    "all_property_vecs = property_trf_df.select('_id', 'idf_vec').rdd.map(lambda x: (x[0], x[1])).collect() #change Word2Vec"
   ]
  },
  {
   "cell_type": "code",
   "execution_count": 10,
   "metadata": {},
   "outputs": [],
   "source": [
    "import numpy as np\n",
    "\n",
    "def cosine_sim(vec1, vec2):\n",
    "    return np.dot(vec1, vec2) / np.sqrt(np.dot(vec1, vec1)) / np.sqrt(np.dot(vec2, vec2))"
   ]
  },
  {
   "cell_type": "code",
   "execution_count": 11,
   "metadata": {},
   "outputs": [],
   "source": [
    "from pyspark.sql.functions import col, isnan\n",
    "from pyspark.ml.evaluation import RegressionEvaluator\n",
    "\n",
    "def get_property_details(in_property):\n",
    "    a = in_property.alias(\"a\")\n",
    "    b = property_df.alias(\"b\")    \n",
    "    return a.join(b, col(\"a.property_id\") == col(\"b._id\"), 'inner').select([col('a.'+xx) for xx in a.columns] + [col('b.name')]).orderBy(\"a.score\", ascending=False)\n"
   ]
  },
  {
   "cell_type": "code",
   "execution_count": 12,
   "metadata": {},
   "outputs": [],
   "source": [
    "# def get_keywords_recomendations(key_words, sim_bus_limit=20):\n",
    "#     input_words_df = sc.parallelize([(0, key_words)]).toDF(['_id', 'text'])\n",
    "#     input_words_df = pipeline_mdl.transform(input_words_df)\n",
    "#     input_key_words_vec = input_words_df.select('idf_vec').collect()[0][0]\n",
    "#     sim_property_byword_rdd = sc.parallelize((i[0], float(cosine_sim(input_key_words_vec, i[1]))) for i in all_property_vecs)\n",
    "#     property_rdd = sim_property_byword_rdd.sortBy(lambda a: -a[1]).collect()\n",
    "#     sim_property_byword_df = spark.createDataFrame(property_rdd) \\\n",
    "#          .withColumnRenamed('_1', 'property_id') \\\n",
    "#          .withColumnRenamed('_2', 'score')\\\n",
    "#          .orderBy(\"score\", ascending=False)\n",
    "#     result = sim_property_byword_df.filter(\n",
    "#         (col('score')>0) & (~isnan('score'))\n",
    "#     ).limit(sim_bus_limit)\n",
    "#     return get_property_details(result)\n"
   ]
  },
  {
   "cell_type": "code",
   "execution_count": 13,
   "metadata": {},
   "outputs": [],
   "source": [
    "# key_words = 'Rumah Minimalis Akses Mudah Subsidi Dekat Jakarta'\n",
    "\n",
    "# keywords_recom_df = get_keywords_recomendations(key_words, 20)\n",
    "# keywords_recom_df.show(truncate=False)"
   ]
  },
  {
   "cell_type": "code",
   "execution_count": null,
   "metadata": {},
   "outputs": [],
   "source": []
  },
  {
   "cell_type": "code",
   "execution_count": 14,
   "metadata": {},
   "outputs": [],
   "source": [
    "# def get_keywords_recom(key_words):\n",
    "#     input_words_df = sc.parallelize([(0, key_words)]).toDF(['_id', 'text'])\n",
    "#     input_words_df = pipeline_mdl.transform(input_words_df)\n",
    "#     input_key_words_vec = input_words_df.select('idf_vec').collect()[0][0]\n",
    "#     sim_property_byword_rdd = sc.parallelize((i[0], float(cosine_sim(input_key_words_vec, i[1]))) for i in all_property_vecs)\n",
    "#     property_rdd = sim_property_byword_rdd.sortBy(lambda a: -a[1]).collect()\n",
    "#     sim_property_byword_df = spark.createDataFrame(property_rdd) \\\n",
    "#          .withColumnRenamed('_1', 'property_id') \\\n",
    "#          .withColumnRenamed('_2', 'score')\\\n",
    "#          .orderBy(\"score\", ascending=False)\n",
    "#     result = sim_property_byword_df.filter(\n",
    "#         (col('score')>0.01) & (col('score')<1.1) & (~isnan('score'))\n",
    "#     )\n",
    "#     return get_property_details(result)\n"
   ]
  },
  {
   "cell_type": "code",
   "execution_count": 39,
   "metadata": {},
   "outputs": [],
   "source": [
    "key_words = 'Rumah Minimalis KPR BTN Bersubsidi Sudah SHM Siap Huni di TangerangRumah KPR Bersubsidi Rasa Komersil, Sudah SHMKeunggulan Perumahan SURYAJAYA :* Perumahanan dibangun diatas lahan 200ha dan sudah dihuni oleh lebih 4.000KK* Fasilitas lengkap di dalam dan disekitar perumahan* Bangunan premium dengan desain rumah modern * DP  angsuran terjangkau * Lokasi strategis dekat ke stasiun /pintu toll/terminal dan juga dikelilingi kawasan kota mandiri* Akses transportasi 24jamAngsuran KPR per bulan :  + 20th = Rp. 1.000.000,- + 15th = Rp. 1.200.000,- + 10th = Rp. 1.600.000,-Lokasi strategis : + 10menit ke stasiun Tigaraksa + 15menit ke pintu toll/terminal + 30menit ke Citra Raya CikupaSegera hubungi : ( telp  whatsapp )0856 8573 888Info akun untuk SuryajayaJangan Lupa Follow IG : rumahsubsidibalarajaSubscribe Youtube : Rumah Subsidi BalarajaFacebook Fanpage : rumahsubsidibalarajaJangan Lupa Kunjungi Website Kami di www.suryaland.idRumah minimalis, desain rumah, desain rumah minimalis, jual rumah, rumah dijual, rumah sederhana, rumahdijual, rumah siap huni tangerang, rumah dijual murah, rumah subsidi kpr, rumah subsidi tangerang, rumah subsidi pemerintah, dp rumah subsidi, rumah murah btn, rumah murah tangerang, rumah kpr btn, kpr btn subsidi, rumah subsidi tangerang kota, rumah murah bank btn, dp rumah subsidi tangerang, annieland, bukit surya, suryajaya, rumah murah, rumah murah jabodetabek, rumah subsidi di jakarta, jual rumah,'\n",
    "\n",
    "input_words_df = sc.parallelize([(0, key_words)]).toDF(['_id', 'text'])\n",
    "input_words_df = pipeline_mdl.transform(input_words_df)\n",
    "input_key_words_vec = input_words_df.select('idf_vec').collect()[0][0]\n",
    "sim_property_byword_rdd = sc.parallelize((i[0], float(cosine_sim(input_key_words_vec, i[1]))) for i in all_property_vecs)\n",
    "property_rdd = sim_property_byword_rdd.sortBy(lambda a: -a[1]).collect()\n",
    "sim_property_byword_df = spark.createDataFrame(property_rdd) \\\n",
    "    .withColumnRenamed('_1', 'property_id') \\\n",
    "    .withColumnRenamed('_2', 'score')\\\n",
    "    .orderBy(\"score\", ascending=False)\n"
   ]
  },
  {
   "cell_type": "code",
   "execution_count": 46,
   "metadata": {},
   "outputs": [
    {
     "name": "stdout",
     "output_type": "stream",
     "text": [
      "+---+--------------------+--------------------+--------------------+--------------------+--------------------+\n",
      "|_id|                text|               token|           nostopwrd|          rawFeature|             idf_vec|\n",
      "+---+--------------------+--------------------+--------------------+--------------------+--------------------+\n",
      "|  0|Rumah Minimalis K...|[rumah, minimalis...|[rumah, minimalis...|(1838,[0,1,2,3,4,...|(1838,[0,1,2,3,4,...|\n",
      "+---+--------------------+--------------------+--------------------+--------------------+--------------------+\n",
      "\n"
     ]
    }
   ],
   "source": [
    "input_words_df.show(1000)"
   ]
  },
  {
   "cell_type": "code",
   "execution_count": 47,
   "metadata": {},
   "outputs": [
    {
     "data": {
      "text/plain": [
       "25"
      ]
     },
     "execution_count": 47,
     "metadata": {},
     "output_type": "execute_result"
    }
   ],
   "source": [
    "relevan_data = sim_property_byword_df.filter((col('score')>0.1) & (col('score')<1.1) & (~isnan('score'))).count()\n",
    "relevan_data\n",
    "\n"
   ]
  },
  {
   "cell_type": "code",
   "execution_count": 48,
   "metadata": {},
   "outputs": [
    {
     "data": {
      "text/plain": [
       "89"
      ]
     },
     "execution_count": 48,
     "metadata": {},
     "output_type": "execute_result"
    }
   ],
   "source": [
    "retrieve_data = sim_property_byword_df.filter((col('score')>0.01) & (col('score')<1.1) & (~isnan('score'))).count()\n",
    "retrieve_data\n"
   ]
  },
  {
   "cell_type": "code",
   "execution_count": 45,
   "metadata": {},
   "outputs": [
    {
     "data": {
      "text/plain": [
       "0.21929824561403508"
      ]
     },
     "execution_count": 45,
     "metadata": {},
     "output_type": "execute_result"
    }
   ],
   "source": [
    "relevan_data/(relevan_data+retrieve_data)"
   ]
  },
  {
   "cell_type": "code",
   "execution_count": 31,
   "metadata": {},
   "outputs": [],
   "source": [
    "# def get_test_rmse(key_words, sim_bus_limit=20):\n",
    "#     input_words_df = sc.parallelize([(0, key_words)]).toDF(['_id', 'text'])\n",
    "#     input_words_df = pipeline_mdl.transform(input_words_df)\n",
    "#     input_key_words_vec = input_words_df.select('idf_vec').collect()[0][0]\n",
    "#     sim_property_byword_rdd = sc.parallelize((i[0], 1.0, float(cosine_sim(input_key_words_vec, i[1]))) for i in all_property_vecs)\n",
    "#     property_rdd = sim_property_byword_rdd.sortBy(lambda a: -a[1]).collect()\n",
    "#     sim_property_byword_df = spark.createDataFrame(property_rdd) \\\n",
    "#          .withColumnRenamed('_1', 'property_id') \\\n",
    "#          .withColumnRenamed('_2', 'test_value') \\\n",
    "#          .withColumnRenamed('_3', 'score')\\\n",
    "#          .orderBy(\"score\", ascending=False)\n",
    "#     result = sim_property_byword_df.filter(\n",
    "#         (col('score')>0) & (~isnan('score'))\n",
    "#     ).limit(sim_bus_limit)\n",
    "#     return get_property_details(result)\n"
   ]
  },
  {
   "cell_type": "code",
   "execution_count": 30,
   "metadata": {},
   "outputs": [],
   "source": [
    "# keyword_1 = \"Rumah Minimalis Akses Mudah Subsidi Dekat Jakarta Booking Fee 1,5 JtRumah KPR Bersubsidi Rasa Komersil, Sudah SHMKeunggulan Perumahan SURYAJAYA :* Perumahanan dibangun diatas lahan 200ha dan sudah dihuni oleh lebih 4.000KK* Fasilitas lengkap di dalam dan disekitar perumahan* Bangunan premium dengan desain rumah modern * DP  angsuran terjangkau * Lokasi strategis dekat ke stasiun /pintu toll/terminal dan juga dikelilingi kawasan kota mandiri* Akses transportasi 24jamAngsuran KPR per bulan :  + 20th = Rp. 1.000.000,- + 15th = Rp. 1.200.000,- + 10th = Rp. 1.600.000,-Lokasi strategis : + 10menit ke stasiun Tigaraksa + 15menit ke pintu toll/terminal + 30menit ke Citra Raya CikupaSegera hubungi : ( telp  whatsapp )0856 8573 888Info akun untuk SuryajayaJangan Lupa Follow IG : rumahsubsidibalarajaSubscribe Youtube : Rumah Subsidi BalarajaFacebook Fanpage : rumahsubsidibalarajaJangan Lupa Kunjungi Website Kami di www.suryaland.idRumah minimalis, desain rumah, desain rumah minimalis, jual rumah, rumah dijual, rumah sederhana, rumahdijual, rumah siap huni tangerang, rumah dijual murah, rumah subsidi kpr, rumah subsidi tangerang, rumah subsidi pemerintah, dp rumah subsidi, rumah murah btn, rumah murah tangerang, rumah kpr btn, kpr btn subsidi, rumah subsidi tangerang kota, rumah murah bank btn, dp rumah subsidi tangerang, annieland, bukit surya, suryajaya, rumah murah, rumah murah jabodetabek, rumah subsidi di jakarta, jual rumah,\"\n",
    "\n",
    "# keywords_recom_df = get_test_rmse(keyword_1, 10)\n",
    "# keywords_recom_df.show()\n",
    "# evaluator = RegressionEvaluator(labelCol=\"test_value\", predictionCol=\"score\", metricName=\"rmse\")\n",
    "# rmse = evaluator.evaluate(keywords_recom_df)\n",
    "# print(\"Root Mean Squared Error (RMSE) on test data = %g\" % rmse)\n"
   ]
  },
  {
   "cell_type": "code",
   "execution_count": 33,
   "metadata": {},
   "outputs": [],
   "source": [
    "# keyword_2 = 'Rumah dekat stasiun tangerang'\n",
    "\n",
    "# keywords_recom_df = get_test_rmse(keyword_2, 10)\n",
    "# keywords_recom_df.show(false)\n",
    "# evaluator = RegressionEvaluator(labelCol=\"test_value\", predictionCol=\"score\", metricName=\"rmse\")\n",
    "# rmse = evaluator.evaluate(keywords_recom_df)\n",
    "# print(\"Root Mean Squared Error (RMSE) on test data = %g\" % rmse)\n"
   ]
  },
  {
   "cell_type": "code",
   "execution_count": 32,
   "metadata": {},
   "outputs": [],
   "source": [
    "# keyword_2 = 'Makanan enak dari padang dan vietnam'\n",
    "\n",
    "# keywords_recom_df = get_test_rmse(keyword_2, 10)\n",
    "# keywords_recom_df.show()\n",
    "# evaluator = RegressionEvaluator(labelCol=\"test_value\", predictionCol=\"score\", metricName=\"rmse\")\n",
    "# rmse = evaluator.evaluate(keywords_recom_df)\n",
    "# print(\"Root Mean Squared Error (RMSE) on test data = %g\" % rmse)\n"
   ]
  },
  {
   "cell_type": "code",
   "execution_count": null,
   "metadata": {},
   "outputs": [],
   "source": []
  }
 ],
 "metadata": {
  "kernelspec": {
   "display_name": "Python 3",
   "language": "python",
   "name": "python3"
  },
  "language_info": {
   "codemirror_mode": {
    "name": "ipython",
    "version": 3
   },
   "file_extension": ".py",
   "mimetype": "text/x-python",
   "name": "python",
   "nbconvert_exporter": "python",
   "pygments_lexer": "ipython3",
   "version": "3.7.1"
  }
 },
 "nbformat": 4,
 "nbformat_minor": 4
}
